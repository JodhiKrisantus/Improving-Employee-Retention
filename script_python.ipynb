{
 "cells": [
  {
   "attachments": {},
   "cell_type": "markdown",
   "metadata": {},
   "source": [
    "# Improving Employee Retention by Predicting Employee Attrition Using Machine Learning\n",
    "“Sumber daya manusia (SDM) adalah aset utama yang perlu dikelola dengan baik oleh perusahaan agar tujuan bisnis dapat tercapai dengan efektif dan efisien. Pada kesempatan kali ini, kita akan menghadapi sebuah permasalahan tentang sumber daya manusia yang ada di perusahaan. Fokus kita adalah untuk mengetahui bagaimana cara menjaga karyawan agar tetap bertahan di perusahaan yang ada saat ini yang dapat mengakibatkan bengkaknya biaya untuk rekrutmen karyawan serta pelatihan untuk mereka yang baru masuk. Dengan mengetahui faktor utama yang menyebabkan karyawan tidak merasa nyaman, perusahaan dapat segera menanggulanginya dengan membuat program-program yang relevan dengan permasalahan karyawan. “\n",
    "\n",
    "Created : Jodhi Krisantus Sihalbu\n",
    "\n",
    "gmail   : sihalbu241299@gmail.com | jodhi1911253@itpln.ac.id"
   ]
  },
  {
   "cell_type": "code",
   "execution_count": 1,
   "metadata": {},
   "outputs": [],
   "source": [
    "import pandas as pd\n",
    "import numpy as np\n",
    "import matplotlib.pyplot as plt\n",
    "import seaborn as sns\n",
    "\n",
    "pd.set_option('display.max_columns', None)"
   ]
  },
  {
   "cell_type": "code",
   "execution_count": 2,
   "metadata": {},
   "outputs": [
    {
     "name": "stdout",
     "output_type": "stream",
     "text": [
      "(287, 25)\n"
     ]
    },
    {
     "data": {
      "text/html": [
       "<div>\n",
       "<style scoped>\n",
       "    .dataframe tbody tr th:only-of-type {\n",
       "        vertical-align: middle;\n",
       "    }\n",
       "\n",
       "    .dataframe tbody tr th {\n",
       "        vertical-align: top;\n",
       "    }\n",
       "\n",
       "    .dataframe thead th {\n",
       "        text-align: right;\n",
       "    }\n",
       "</style>\n",
       "<table border=\"1\" class=\"dataframe\">\n",
       "  <thead>\n",
       "    <tr style=\"text-align: right;\">\n",
       "      <th></th>\n",
       "      <th>Username</th>\n",
       "      <th>EnterpriseID</th>\n",
       "      <th>StatusPernikahan</th>\n",
       "      <th>JenisKelamin</th>\n",
       "      <th>StatusKepegawaian</th>\n",
       "      <th>Pekerjaan</th>\n",
       "      <th>JenjangKarir</th>\n",
       "      <th>PerformancePegawai</th>\n",
       "      <th>AsalDaerah</th>\n",
       "      <th>HiringPlatform</th>\n",
       "      <th>SkorSurveyEngagement</th>\n",
       "      <th>SkorKepuasanPegawai</th>\n",
       "      <th>JumlahKeikutsertaanProjek</th>\n",
       "      <th>JumlahKeterlambatanSebulanTerakhir</th>\n",
       "      <th>JumlahKetidakhadiran</th>\n",
       "      <th>NomorHP</th>\n",
       "      <th>Email</th>\n",
       "      <th>TingkatPendidikan</th>\n",
       "      <th>PernahBekerja</th>\n",
       "      <th>IkutProgramLOP</th>\n",
       "      <th>AlasanResign</th>\n",
       "      <th>TanggalLahir</th>\n",
       "      <th>TanggalHiring</th>\n",
       "      <th>TanggalPenilaianKaryawan</th>\n",
       "      <th>TanggalResign</th>\n",
       "    </tr>\n",
       "  </thead>\n",
       "  <tbody>\n",
       "    <tr>\n",
       "      <th>0</th>\n",
       "      <td>spiritedPorpoise3</td>\n",
       "      <td>111065</td>\n",
       "      <td>Belum_menikah</td>\n",
       "      <td>Pria</td>\n",
       "      <td>Outsource</td>\n",
       "      <td>Software Engineer (Back End)</td>\n",
       "      <td>Freshgraduate_program</td>\n",
       "      <td>Sangat_bagus</td>\n",
       "      <td>Jakarta Timur</td>\n",
       "      <td>Employee_Referral</td>\n",
       "      <td>4</td>\n",
       "      <td>4.0</td>\n",
       "      <td>0.0</td>\n",
       "      <td>0.0</td>\n",
       "      <td>9.0</td>\n",
       "      <td>+6282232522xxx</td>\n",
       "      <td>spiritedPorpoise3135@yahoo.com</td>\n",
       "      <td>Magister</td>\n",
       "      <td>1</td>\n",
       "      <td>1.0</td>\n",
       "      <td>masih_bekerja</td>\n",
       "      <td>1972-07-01</td>\n",
       "      <td>2011-01-10</td>\n",
       "      <td>2016-2-15</td>\n",
       "      <td>-</td>\n",
       "    </tr>\n",
       "    <tr>\n",
       "      <th>1</th>\n",
       "      <td>jealousGelding2</td>\n",
       "      <td>106080</td>\n",
       "      <td>Belum_menikah</td>\n",
       "      <td>Pria</td>\n",
       "      <td>FullTime</td>\n",
       "      <td>Data Analyst</td>\n",
       "      <td>Freshgraduate_program</td>\n",
       "      <td>Sangat_kurang</td>\n",
       "      <td>Jakarta Utara</td>\n",
       "      <td>Website</td>\n",
       "      <td>4</td>\n",
       "      <td>4.0</td>\n",
       "      <td>4.0</td>\n",
       "      <td>0.0</td>\n",
       "      <td>3.0</td>\n",
       "      <td>+6281270745xxx</td>\n",
       "      <td>jealousGelding2239@yahoo.com</td>\n",
       "      <td>Sarjana</td>\n",
       "      <td>1</td>\n",
       "      <td>1.0</td>\n",
       "      <td>toxic_culture</td>\n",
       "      <td>1984-04-26</td>\n",
       "      <td>2014-01-06</td>\n",
       "      <td>2020-1-17</td>\n",
       "      <td>2018-6-16</td>\n",
       "    </tr>\n",
       "    <tr>\n",
       "      <th>2</th>\n",
       "      <td>pluckyMuesli3</td>\n",
       "      <td>106452</td>\n",
       "      <td>Menikah</td>\n",
       "      <td>Pria</td>\n",
       "      <td>FullTime</td>\n",
       "      <td>Software Engineer (Front End)</td>\n",
       "      <td>Freshgraduate_program</td>\n",
       "      <td>Bagus</td>\n",
       "      <td>Jakarta Timur</td>\n",
       "      <td>Indeed</td>\n",
       "      <td>4</td>\n",
       "      <td>3.0</td>\n",
       "      <td>0.0</td>\n",
       "      <td>0.0</td>\n",
       "      <td>11.0</td>\n",
       "      <td>+6281346215xxx</td>\n",
       "      <td>pluckyMuesli3961@icloud.com</td>\n",
       "      <td>Magister</td>\n",
       "      <td>1</td>\n",
       "      <td>1.0</td>\n",
       "      <td>jam_kerja</td>\n",
       "      <td>1974-01-07</td>\n",
       "      <td>2011-01-10</td>\n",
       "      <td>2016-01-10</td>\n",
       "      <td>2014-9-24</td>\n",
       "    </tr>\n",
       "    <tr>\n",
       "      <th>3</th>\n",
       "      <td>stressedTruffle1</td>\n",
       "      <td>106325</td>\n",
       "      <td>Belum_menikah</td>\n",
       "      <td>Pria</td>\n",
       "      <td>Outsource</td>\n",
       "      <td>Software Engineer (Front End)</td>\n",
       "      <td>Freshgraduate_program</td>\n",
       "      <td>Bagus</td>\n",
       "      <td>Jakarta Pusat</td>\n",
       "      <td>LinkedIn</td>\n",
       "      <td>3</td>\n",
       "      <td>3.0</td>\n",
       "      <td>0.0</td>\n",
       "      <td>4.0</td>\n",
       "      <td>6.0</td>\n",
       "      <td>+6283233846xxx</td>\n",
       "      <td>stressedTruffle1406@hotmail.com</td>\n",
       "      <td>Sarjana</td>\n",
       "      <td>1</td>\n",
       "      <td>0.0</td>\n",
       "      <td>masih_bekerja</td>\n",
       "      <td>1979-11-24</td>\n",
       "      <td>2014-2-17</td>\n",
       "      <td>2020-02-04</td>\n",
       "      <td>-</td>\n",
       "    </tr>\n",
       "    <tr>\n",
       "      <th>4</th>\n",
       "      <td>shyTermite7</td>\n",
       "      <td>111171</td>\n",
       "      <td>Belum_menikah</td>\n",
       "      <td>Wanita</td>\n",
       "      <td>FullTime</td>\n",
       "      <td>Product Manager</td>\n",
       "      <td>Freshgraduate_program</td>\n",
       "      <td>Bagus</td>\n",
       "      <td>Jakarta Timur</td>\n",
       "      <td>LinkedIn</td>\n",
       "      <td>3</td>\n",
       "      <td>3.0</td>\n",
       "      <td>0.0</td>\n",
       "      <td>0.0</td>\n",
       "      <td>11.0</td>\n",
       "      <td>+6287883263xxx</td>\n",
       "      <td>shyTermite7149@gmail.com</td>\n",
       "      <td>Sarjana</td>\n",
       "      <td>1</td>\n",
       "      <td>0.0</td>\n",
       "      <td>ganti_karir</td>\n",
       "      <td>1974-11-07</td>\n",
       "      <td>2013-11-11</td>\n",
       "      <td>2020-1-22</td>\n",
       "      <td>2018-09-06</td>\n",
       "    </tr>\n",
       "  </tbody>\n",
       "</table>\n",
       "</div>"
      ],
      "text/plain": [
       "            Username  EnterpriseID StatusPernikahan JenisKelamin  \\\n",
       "0  spiritedPorpoise3        111065    Belum_menikah         Pria   \n",
       "1    jealousGelding2        106080    Belum_menikah         Pria   \n",
       "2      pluckyMuesli3        106452          Menikah         Pria   \n",
       "3   stressedTruffle1        106325    Belum_menikah         Pria   \n",
       "4        shyTermite7        111171    Belum_menikah       Wanita   \n",
       "\n",
       "  StatusKepegawaian                      Pekerjaan           JenjangKarir  \\\n",
       "0         Outsource   Software Engineer (Back End)  Freshgraduate_program   \n",
       "1          FullTime                   Data Analyst  Freshgraduate_program   \n",
       "2          FullTime  Software Engineer (Front End)  Freshgraduate_program   \n",
       "3         Outsource  Software Engineer (Front End)  Freshgraduate_program   \n",
       "4          FullTime                Product Manager  Freshgraduate_program   \n",
       "\n",
       "  PerformancePegawai     AsalDaerah     HiringPlatform  SkorSurveyEngagement  \\\n",
       "0       Sangat_bagus  Jakarta Timur  Employee_Referral                     4   \n",
       "1      Sangat_kurang  Jakarta Utara            Website                     4   \n",
       "2              Bagus  Jakarta Timur             Indeed                     4   \n",
       "3              Bagus  Jakarta Pusat           LinkedIn                     3   \n",
       "4              Bagus  Jakarta Timur           LinkedIn                     3   \n",
       "\n",
       "   SkorKepuasanPegawai  JumlahKeikutsertaanProjek  \\\n",
       "0                  4.0                        0.0   \n",
       "1                  4.0                        4.0   \n",
       "2                  3.0                        0.0   \n",
       "3                  3.0                        0.0   \n",
       "4                  3.0                        0.0   \n",
       "\n",
       "   JumlahKeterlambatanSebulanTerakhir  JumlahKetidakhadiran         NomorHP  \\\n",
       "0                                 0.0                   9.0  +6282232522xxx   \n",
       "1                                 0.0                   3.0  +6281270745xxx   \n",
       "2                                 0.0                  11.0  +6281346215xxx   \n",
       "3                                 4.0                   6.0  +6283233846xxx   \n",
       "4                                 0.0                  11.0  +6287883263xxx   \n",
       "\n",
       "                             Email TingkatPendidikan PernahBekerja  \\\n",
       "0   spiritedPorpoise3135@yahoo.com          Magister             1   \n",
       "1     jealousGelding2239@yahoo.com           Sarjana             1   \n",
       "2      pluckyMuesli3961@icloud.com          Magister             1   \n",
       "3  stressedTruffle1406@hotmail.com           Sarjana             1   \n",
       "4         shyTermite7149@gmail.com           Sarjana             1   \n",
       "\n",
       "   IkutProgramLOP   AlasanResign TanggalLahir TanggalHiring  \\\n",
       "0             1.0  masih_bekerja   1972-07-01    2011-01-10   \n",
       "1             1.0  toxic_culture   1984-04-26    2014-01-06   \n",
       "2             1.0      jam_kerja   1974-01-07    2011-01-10   \n",
       "3             0.0  masih_bekerja   1979-11-24     2014-2-17   \n",
       "4             0.0    ganti_karir   1974-11-07    2013-11-11   \n",
       "\n",
       "  TanggalPenilaianKaryawan TanggalResign  \n",
       "0                2016-2-15             -  \n",
       "1                2020-1-17     2018-6-16  \n",
       "2               2016-01-10     2014-9-24  \n",
       "3               2020-02-04             -  \n",
       "4                2020-1-22    2018-09-06  "
      ]
     },
     "execution_count": 2,
     "metadata": {},
     "output_type": "execute_result"
    }
   ],
   "source": [
    "df = pd.read_excel(r\"Improving Employee Retention by Predicting Employee Attrition Using Machine Learning.xlsx\")\n",
    "print(df.shape)\n",
    "df.head()"
   ]
  },
  {
   "attachments": {},
   "cell_type": "markdown",
   "metadata": {},
   "source": [
    "# EDA"
   ]
  },
  {
   "cell_type": "code",
   "execution_count": 3,
   "metadata": {},
   "outputs": [
    {
     "name": "stdout",
     "output_type": "stream",
     "text": [
      "<class 'pandas.core.frame.DataFrame'>\n",
      "RangeIndex: 287 entries, 0 to 286\n",
      "Data columns (total 25 columns):\n",
      " #   Column                              Non-Null Count  Dtype  \n",
      "---  ------                              --------------  -----  \n",
      " 0   Username                            287 non-null    object \n",
      " 1   EnterpriseID                        287 non-null    int64  \n",
      " 2   StatusPernikahan                    287 non-null    object \n",
      " 3   JenisKelamin                        287 non-null    object \n",
      " 4   StatusKepegawaian                   287 non-null    object \n",
      " 5   Pekerjaan                           287 non-null    object \n",
      " 6   JenjangKarir                        287 non-null    object \n",
      " 7   PerformancePegawai                  287 non-null    object \n",
      " 8   AsalDaerah                          287 non-null    object \n",
      " 9   HiringPlatform                      287 non-null    object \n",
      " 10  SkorSurveyEngagement                287 non-null    int64  \n",
      " 11  SkorKepuasanPegawai                 282 non-null    float64\n",
      " 12  JumlahKeikutsertaanProjek           284 non-null    float64\n",
      " 13  JumlahKeterlambatanSebulanTerakhir  286 non-null    float64\n",
      " 14  JumlahKetidakhadiran                281 non-null    float64\n",
      " 15  NomorHP                             287 non-null    object \n",
      " 16  Email                               287 non-null    object \n",
      " 17  TingkatPendidikan                   287 non-null    object \n",
      " 18  PernahBekerja                       287 non-null    object \n",
      " 19  IkutProgramLOP                      29 non-null     float64\n",
      " 20  AlasanResign                        221 non-null    object \n",
      " 21  TanggalLahir                        287 non-null    object \n",
      " 22  TanggalHiring                       287 non-null    object \n",
      " 23  TanggalPenilaianKaryawan            287 non-null    object \n",
      " 24  TanggalResign                       287 non-null    object \n",
      "dtypes: float64(5), int64(2), object(18)\n",
      "memory usage: 56.2+ KB\n"
     ]
    }
   ],
   "source": [
    "df.info()"
   ]
  },
  {
   "cell_type": "code",
   "execution_count": 4,
   "metadata": {},
   "outputs": [
    {
     "data": {
      "text/html": [
       "<div>\n",
       "<style scoped>\n",
       "    .dataframe tbody tr th:only-of-type {\n",
       "        vertical-align: middle;\n",
       "    }\n",
       "\n",
       "    .dataframe tbody tr th {\n",
       "        vertical-align: top;\n",
       "    }\n",
       "\n",
       "    .dataframe thead th {\n",
       "        text-align: right;\n",
       "    }\n",
       "</style>\n",
       "<table border=\"1\" class=\"dataframe\">\n",
       "  <thead>\n",
       "    <tr style=\"text-align: right;\">\n",
       "      <th></th>\n",
       "      <th>Jumlah Miising Value</th>\n",
       "      <th>ratio (%)</th>\n",
       "    </tr>\n",
       "  </thead>\n",
       "  <tbody>\n",
       "    <tr>\n",
       "      <th>Username</th>\n",
       "      <td>0</td>\n",
       "      <td>0.00</td>\n",
       "    </tr>\n",
       "    <tr>\n",
       "      <th>EnterpriseID</th>\n",
       "      <td>0</td>\n",
       "      <td>0.00</td>\n",
       "    </tr>\n",
       "    <tr>\n",
       "      <th>StatusPernikahan</th>\n",
       "      <td>0</td>\n",
       "      <td>0.00</td>\n",
       "    </tr>\n",
       "    <tr>\n",
       "      <th>JenisKelamin</th>\n",
       "      <td>0</td>\n",
       "      <td>0.00</td>\n",
       "    </tr>\n",
       "    <tr>\n",
       "      <th>StatusKepegawaian</th>\n",
       "      <td>0</td>\n",
       "      <td>0.00</td>\n",
       "    </tr>\n",
       "    <tr>\n",
       "      <th>Pekerjaan</th>\n",
       "      <td>0</td>\n",
       "      <td>0.00</td>\n",
       "    </tr>\n",
       "    <tr>\n",
       "      <th>JenjangKarir</th>\n",
       "      <td>0</td>\n",
       "      <td>0.00</td>\n",
       "    </tr>\n",
       "    <tr>\n",
       "      <th>PerformancePegawai</th>\n",
       "      <td>0</td>\n",
       "      <td>0.00</td>\n",
       "    </tr>\n",
       "    <tr>\n",
       "      <th>AsalDaerah</th>\n",
       "      <td>0</td>\n",
       "      <td>0.00</td>\n",
       "    </tr>\n",
       "    <tr>\n",
       "      <th>HiringPlatform</th>\n",
       "      <td>0</td>\n",
       "      <td>0.00</td>\n",
       "    </tr>\n",
       "    <tr>\n",
       "      <th>SkorSurveyEngagement</th>\n",
       "      <td>0</td>\n",
       "      <td>0.00</td>\n",
       "    </tr>\n",
       "    <tr>\n",
       "      <th>SkorKepuasanPegawai</th>\n",
       "      <td>5</td>\n",
       "      <td>1.74</td>\n",
       "    </tr>\n",
       "    <tr>\n",
       "      <th>JumlahKeikutsertaanProjek</th>\n",
       "      <td>3</td>\n",
       "      <td>1.05</td>\n",
       "    </tr>\n",
       "    <tr>\n",
       "      <th>JumlahKeterlambatanSebulanTerakhir</th>\n",
       "      <td>1</td>\n",
       "      <td>0.35</td>\n",
       "    </tr>\n",
       "    <tr>\n",
       "      <th>JumlahKetidakhadiran</th>\n",
       "      <td>6</td>\n",
       "      <td>2.09</td>\n",
       "    </tr>\n",
       "    <tr>\n",
       "      <th>NomorHP</th>\n",
       "      <td>0</td>\n",
       "      <td>0.00</td>\n",
       "    </tr>\n",
       "    <tr>\n",
       "      <th>Email</th>\n",
       "      <td>0</td>\n",
       "      <td>0.00</td>\n",
       "    </tr>\n",
       "    <tr>\n",
       "      <th>TingkatPendidikan</th>\n",
       "      <td>0</td>\n",
       "      <td>0.00</td>\n",
       "    </tr>\n",
       "    <tr>\n",
       "      <th>PernahBekerja</th>\n",
       "      <td>0</td>\n",
       "      <td>0.00</td>\n",
       "    </tr>\n",
       "    <tr>\n",
       "      <th>IkutProgramLOP</th>\n",
       "      <td>258</td>\n",
       "      <td>89.90</td>\n",
       "    </tr>\n",
       "    <tr>\n",
       "      <th>AlasanResign</th>\n",
       "      <td>66</td>\n",
       "      <td>23.00</td>\n",
       "    </tr>\n",
       "    <tr>\n",
       "      <th>TanggalLahir</th>\n",
       "      <td>0</td>\n",
       "      <td>0.00</td>\n",
       "    </tr>\n",
       "    <tr>\n",
       "      <th>TanggalHiring</th>\n",
       "      <td>0</td>\n",
       "      <td>0.00</td>\n",
       "    </tr>\n",
       "    <tr>\n",
       "      <th>TanggalPenilaianKaryawan</th>\n",
       "      <td>0</td>\n",
       "      <td>0.00</td>\n",
       "    </tr>\n",
       "    <tr>\n",
       "      <th>TanggalResign</th>\n",
       "      <td>0</td>\n",
       "      <td>0.00</td>\n",
       "    </tr>\n",
       "  </tbody>\n",
       "</table>\n",
       "</div>"
      ],
      "text/plain": [
       "                                    Jumlah Miising Value  ratio (%)\n",
       "Username                                               0       0.00\n",
       "EnterpriseID                                           0       0.00\n",
       "StatusPernikahan                                       0       0.00\n",
       "JenisKelamin                                           0       0.00\n",
       "StatusKepegawaian                                      0       0.00\n",
       "Pekerjaan                                              0       0.00\n",
       "JenjangKarir                                           0       0.00\n",
       "PerformancePegawai                                     0       0.00\n",
       "AsalDaerah                                             0       0.00\n",
       "HiringPlatform                                         0       0.00\n",
       "SkorSurveyEngagement                                   0       0.00\n",
       "SkorKepuasanPegawai                                    5       1.74\n",
       "JumlahKeikutsertaanProjek                              3       1.05\n",
       "JumlahKeterlambatanSebulanTerakhir                     1       0.35\n",
       "JumlahKetidakhadiran                                   6       2.09\n",
       "NomorHP                                                0       0.00\n",
       "Email                                                  0       0.00\n",
       "TingkatPendidikan                                      0       0.00\n",
       "PernahBekerja                                          0       0.00\n",
       "IkutProgramLOP                                       258      89.90\n",
       "AlasanResign                                          66      23.00\n",
       "TanggalLahir                                           0       0.00\n",
       "TanggalHiring                                          0       0.00\n",
       "TanggalPenilaianKaryawan                               0       0.00\n",
       "TanggalResign                                          0       0.00"
      ]
     },
     "execution_count": 4,
     "metadata": {},
     "output_type": "execute_result"
    }
   ],
   "source": [
    "miss_value = pd.DataFrame( data = df.isna().sum(), columns={'Jumlah Miising Value'}, index=df.columns)\n",
    "rati_miss_value = pd.DataFrame(data=round(df.isna().sum() / len(df) * 100,2), columns={\"ratio (%)\"})\n",
    "pd.concat([miss_value,rati_miss_value],axis=1)"
   ]
  },
  {
   "cell_type": "code",
   "execution_count": 5,
   "metadata": {},
   "outputs": [
    {
     "data": {
      "text/html": [
       "<div>\n",
       "<style scoped>\n",
       "    .dataframe tbody tr th:only-of-type {\n",
       "        vertical-align: middle;\n",
       "    }\n",
       "\n",
       "    .dataframe tbody tr th {\n",
       "        vertical-align: top;\n",
       "    }\n",
       "\n",
       "    .dataframe thead th {\n",
       "        text-align: right;\n",
       "    }\n",
       "</style>\n",
       "<table border=\"1\" class=\"dataframe\">\n",
       "  <thead>\n",
       "    <tr style=\"text-align: right;\">\n",
       "      <th></th>\n",
       "      <th>count</th>\n",
       "      <th>mean</th>\n",
       "      <th>std</th>\n",
       "      <th>min</th>\n",
       "      <th>25%</th>\n",
       "      <th>50%</th>\n",
       "      <th>75%</th>\n",
       "      <th>max</th>\n",
       "    </tr>\n",
       "  </thead>\n",
       "  <tbody>\n",
       "    <tr>\n",
       "      <th>EnterpriseID</th>\n",
       "      <td>287.0</td>\n",
       "      <td>105923.324042</td>\n",
       "      <td>4044.977599</td>\n",
       "      <td>100282.0</td>\n",
       "      <td>101269.0</td>\n",
       "      <td>106069.0</td>\n",
       "      <td>110514.5</td>\n",
       "      <td>111703.0</td>\n",
       "    </tr>\n",
       "    <tr>\n",
       "      <th>SkorSurveyEngagement</th>\n",
       "      <td>287.0</td>\n",
       "      <td>3.101045</td>\n",
       "      <td>0.836388</td>\n",
       "      <td>1.0</td>\n",
       "      <td>3.0</td>\n",
       "      <td>3.0</td>\n",
       "      <td>4.0</td>\n",
       "      <td>5.0</td>\n",
       "    </tr>\n",
       "    <tr>\n",
       "      <th>SkorKepuasanPegawai</th>\n",
       "      <td>282.0</td>\n",
       "      <td>3.904255</td>\n",
       "      <td>0.913355</td>\n",
       "      <td>1.0</td>\n",
       "      <td>3.0</td>\n",
       "      <td>4.0</td>\n",
       "      <td>5.0</td>\n",
       "      <td>5.0</td>\n",
       "    </tr>\n",
       "    <tr>\n",
       "      <th>JumlahKeikutsertaanProjek</th>\n",
       "      <td>284.0</td>\n",
       "      <td>1.179577</td>\n",
       "      <td>2.294441</td>\n",
       "      <td>0.0</td>\n",
       "      <td>0.0</td>\n",
       "      <td>0.0</td>\n",
       "      <td>0.0</td>\n",
       "      <td>8.0</td>\n",
       "    </tr>\n",
       "    <tr>\n",
       "      <th>JumlahKeterlambatanSebulanTerakhir</th>\n",
       "      <td>286.0</td>\n",
       "      <td>0.412587</td>\n",
       "      <td>1.275016</td>\n",
       "      <td>0.0</td>\n",
       "      <td>0.0</td>\n",
       "      <td>0.0</td>\n",
       "      <td>0.0</td>\n",
       "      <td>6.0</td>\n",
       "    </tr>\n",
       "    <tr>\n",
       "      <th>JumlahKetidakhadiran</th>\n",
       "      <td>281.0</td>\n",
       "      <td>10.448399</td>\n",
       "      <td>6.902252</td>\n",
       "      <td>1.0</td>\n",
       "      <td>5.0</td>\n",
       "      <td>10.0</td>\n",
       "      <td>15.0</td>\n",
       "      <td>55.0</td>\n",
       "    </tr>\n",
       "    <tr>\n",
       "      <th>IkutProgramLOP</th>\n",
       "      <td>29.0</td>\n",
       "      <td>0.517241</td>\n",
       "      <td>0.508548</td>\n",
       "      <td>0.0</td>\n",
       "      <td>0.0</td>\n",
       "      <td>1.0</td>\n",
       "      <td>1.0</td>\n",
       "      <td>1.0</td>\n",
       "    </tr>\n",
       "  </tbody>\n",
       "</table>\n",
       "</div>"
      ],
      "text/plain": [
       "                                    count           mean          std  \\\n",
       "EnterpriseID                        287.0  105923.324042  4044.977599   \n",
       "SkorSurveyEngagement                287.0       3.101045     0.836388   \n",
       "SkorKepuasanPegawai                 282.0       3.904255     0.913355   \n",
       "JumlahKeikutsertaanProjek           284.0       1.179577     2.294441   \n",
       "JumlahKeterlambatanSebulanTerakhir  286.0       0.412587     1.275016   \n",
       "JumlahKetidakhadiran                281.0      10.448399     6.902252   \n",
       "IkutProgramLOP                       29.0       0.517241     0.508548   \n",
       "\n",
       "                                         min       25%       50%       75%  \\\n",
       "EnterpriseID                        100282.0  101269.0  106069.0  110514.5   \n",
       "SkorSurveyEngagement                     1.0       3.0       3.0       4.0   \n",
       "SkorKepuasanPegawai                      1.0       3.0       4.0       5.0   \n",
       "JumlahKeikutsertaanProjek                0.0       0.0       0.0       0.0   \n",
       "JumlahKeterlambatanSebulanTerakhir       0.0       0.0       0.0       0.0   \n",
       "JumlahKetidakhadiran                     1.0       5.0      10.0      15.0   \n",
       "IkutProgramLOP                           0.0       0.0       1.0       1.0   \n",
       "\n",
       "                                         max  \n",
       "EnterpriseID                        111703.0  \n",
       "SkorSurveyEngagement                     5.0  \n",
       "SkorKepuasanPegawai                      5.0  \n",
       "JumlahKeikutsertaanProjek                8.0  \n",
       "JumlahKeterlambatanSebulanTerakhir       6.0  \n",
       "JumlahKetidakhadiran                    55.0  \n",
       "IkutProgramLOP                           1.0  "
      ]
     },
     "execution_count": 5,
     "metadata": {},
     "output_type": "execute_result"
    }
   ],
   "source": [
    "df.describe().T"
   ]
  },
  {
   "cell_type": "code",
   "execution_count": 6,
   "metadata": {},
   "outputs": [
    {
     "data": {
      "text/html": [
       "<div>\n",
       "<style scoped>\n",
       "    .dataframe tbody tr th:only-of-type {\n",
       "        vertical-align: middle;\n",
       "    }\n",
       "\n",
       "    .dataframe tbody tr th {\n",
       "        vertical-align: top;\n",
       "    }\n",
       "\n",
       "    .dataframe thead th {\n",
       "        text-align: right;\n",
       "    }\n",
       "</style>\n",
       "<table border=\"1\" class=\"dataframe\">\n",
       "  <thead>\n",
       "    <tr style=\"text-align: right;\">\n",
       "      <th></th>\n",
       "      <th>count</th>\n",
       "      <th>unique</th>\n",
       "      <th>top</th>\n",
       "      <th>freq</th>\n",
       "    </tr>\n",
       "  </thead>\n",
       "  <tbody>\n",
       "    <tr>\n",
       "      <th>Username</th>\n",
       "      <td>287</td>\n",
       "      <td>285</td>\n",
       "      <td>boredEggs0</td>\n",
       "      <td>2</td>\n",
       "    </tr>\n",
       "    <tr>\n",
       "      <th>StatusPernikahan</th>\n",
       "      <td>287</td>\n",
       "      <td>5</td>\n",
       "      <td>Belum_menikah</td>\n",
       "      <td>132</td>\n",
       "    </tr>\n",
       "    <tr>\n",
       "      <th>JenisKelamin</th>\n",
       "      <td>287</td>\n",
       "      <td>2</td>\n",
       "      <td>Wanita</td>\n",
       "      <td>167</td>\n",
       "    </tr>\n",
       "    <tr>\n",
       "      <th>StatusKepegawaian</th>\n",
       "      <td>287</td>\n",
       "      <td>3</td>\n",
       "      <td>FullTime</td>\n",
       "      <td>217</td>\n",
       "    </tr>\n",
       "    <tr>\n",
       "      <th>Pekerjaan</th>\n",
       "      <td>287</td>\n",
       "      <td>14</td>\n",
       "      <td>Software Engineer (Back End)</td>\n",
       "      <td>109</td>\n",
       "    </tr>\n",
       "    <tr>\n",
       "      <th>JenjangKarir</th>\n",
       "      <td>287</td>\n",
       "      <td>3</td>\n",
       "      <td>Freshgraduate_program</td>\n",
       "      <td>169</td>\n",
       "    </tr>\n",
       "    <tr>\n",
       "      <th>PerformancePegawai</th>\n",
       "      <td>287</td>\n",
       "      <td>5</td>\n",
       "      <td>Biasa</td>\n",
       "      <td>85</td>\n",
       "    </tr>\n",
       "    <tr>\n",
       "      <th>AsalDaerah</th>\n",
       "      <td>287</td>\n",
       "      <td>5</td>\n",
       "      <td>Jakarta Pusat</td>\n",
       "      <td>72</td>\n",
       "    </tr>\n",
       "    <tr>\n",
       "      <th>HiringPlatform</th>\n",
       "      <td>287</td>\n",
       "      <td>9</td>\n",
       "      <td>Indeed</td>\n",
       "      <td>85</td>\n",
       "    </tr>\n",
       "    <tr>\n",
       "      <th>NomorHP</th>\n",
       "      <td>287</td>\n",
       "      <td>287</td>\n",
       "      <td>+6282232522xxx</td>\n",
       "      <td>1</td>\n",
       "    </tr>\n",
       "    <tr>\n",
       "      <th>Email</th>\n",
       "      <td>287</td>\n",
       "      <td>287</td>\n",
       "      <td>spiritedPorpoise3135@yahoo.com</td>\n",
       "      <td>1</td>\n",
       "    </tr>\n",
       "    <tr>\n",
       "      <th>TingkatPendidikan</th>\n",
       "      <td>287</td>\n",
       "      <td>3</td>\n",
       "      <td>Sarjana</td>\n",
       "      <td>176</td>\n",
       "    </tr>\n",
       "    <tr>\n",
       "      <th>PernahBekerja</th>\n",
       "      <td>287</td>\n",
       "      <td>2</td>\n",
       "      <td>1</td>\n",
       "      <td>286</td>\n",
       "    </tr>\n",
       "    <tr>\n",
       "      <th>AlasanResign</th>\n",
       "      <td>221</td>\n",
       "      <td>11</td>\n",
       "      <td>masih_bekerja</td>\n",
       "      <td>132</td>\n",
       "    </tr>\n",
       "    <tr>\n",
       "      <th>TanggalLahir</th>\n",
       "      <td>287</td>\n",
       "      <td>284</td>\n",
       "      <td>1987-06-14</td>\n",
       "      <td>2</td>\n",
       "    </tr>\n",
       "    <tr>\n",
       "      <th>TanggalHiring</th>\n",
       "      <td>287</td>\n",
       "      <td>97</td>\n",
       "      <td>2011-01-10</td>\n",
       "      <td>12</td>\n",
       "    </tr>\n",
       "    <tr>\n",
       "      <th>TanggalPenilaianKaryawan</th>\n",
       "      <td>287</td>\n",
       "      <td>127</td>\n",
       "      <td>2020-1-14</td>\n",
       "      <td>17</td>\n",
       "    </tr>\n",
       "    <tr>\n",
       "      <th>TanggalResign</th>\n",
       "      <td>287</td>\n",
       "      <td>53</td>\n",
       "      <td>-</td>\n",
       "      <td>198</td>\n",
       "    </tr>\n",
       "  </tbody>\n",
       "</table>\n",
       "</div>"
      ],
      "text/plain": [
       "                         count unique                             top freq\n",
       "Username                   287    285                      boredEggs0    2\n",
       "StatusPernikahan           287      5                   Belum_menikah  132\n",
       "JenisKelamin               287      2                          Wanita  167\n",
       "StatusKepegawaian          287      3                        FullTime  217\n",
       "Pekerjaan                  287     14    Software Engineer (Back End)  109\n",
       "JenjangKarir               287      3           Freshgraduate_program  169\n",
       "PerformancePegawai         287      5                           Biasa   85\n",
       "AsalDaerah                 287      5                   Jakarta Pusat   72\n",
       "HiringPlatform             287      9                          Indeed   85\n",
       "NomorHP                    287    287                  +6282232522xxx    1\n",
       "Email                      287    287  spiritedPorpoise3135@yahoo.com    1\n",
       "TingkatPendidikan          287      3                         Sarjana  176\n",
       "PernahBekerja              287      2                               1  286\n",
       "AlasanResign               221     11                   masih_bekerja  132\n",
       "TanggalLahir               287    284                      1987-06-14    2\n",
       "TanggalHiring              287     97                      2011-01-10   12\n",
       "TanggalPenilaianKaryawan   287    127                       2020-1-14   17\n",
       "TanggalResign              287     53                               -  198"
      ]
     },
     "execution_count": 6,
     "metadata": {},
     "output_type": "execute_result"
    }
   ],
   "source": [
    "df.describe(include=\"object\").T"
   ]
  },
  {
   "attachments": {},
   "cell_type": "markdown",
   "metadata": {},
   "source": [
    "- Terdapat ``Missing value`` pada kolom (SkorKepuasanPegawai = 1.74%, JumlahKeikutsertaanProjek = 1.05%, JumlahKeterlambatanSebulanTerakhir = 0.35%, JumlahKetidakhadiran = 2.09%, `IkutProgramLOP = 89.90%`, AlasanResign = 23%)\n",
    "- Data type object pada (TanggalLahir,TanggalHiring,TanggalPenilaianKaryawan, TanggalResign), seharusnya adalah datetime\n",
    "- Pada kolom `NomorHP` mempunyai value `+6282232522xxx`. Lebih baik dikateggorikan menjadi kategori provider\n",
    "- Pada kolom `Email` lebih baik dikategorikan, contoh : yahoo, gmail, hotmail, dll"
   ]
  },
  {
   "cell_type": "code",
   "execution_count": 7,
   "metadata": {},
   "outputs": [],
   "source": [
    "numeric = ['SkorSurveyEngagement', 'SkorKepuasanPegawai', 'JumlahKeikutsertaanProjek', 'JumlahKeterlambatanSebulanTerakhir','JumlahKetidakhadiran']"
   ]
  },
  {
   "cell_type": "code",
   "execution_count": 8,
   "metadata": {},
   "outputs": [
    {
     "data": {
      "image/png": "[encoded data removed]",
      "text/plain": [
       "<Figure size 1200x1200 with 5 Axes>"
      ]
     },
     "metadata": {},
     "output_type": "display_data"
    }
   ],
   "source": [
    "plt.figure(figsize=(12,12))\n",
    "for i in range(len(numeric)):\n",
    "    sns.color_palette(palette=\"BuGn\")\n",
    "    plt.subplot( 14,2, i+1 )\n",
    "    sns.boxplot( data=df, x=df[numeric[i]] )\n",
    "    plt.tight_layout()"
   ]
  },
  {
   "cell_type": "code",
   "execution_count": 9,
   "metadata": {},
   "outputs": [
    {
     "data": {
      "image/png": "[encoded data removed]",
      "text/plain": [
       "<Figure size 1200x2500 with 11 Axes>"
      ]
     },
     "metadata": {},
     "output_type": "display_data"
    }
   ],
   "source": [
    "obj = ['StatusPernikahan','JenisKelamin','StatusKepegawaian','Pekerjaan','JenjangKarir','PerformancePegawai','AsalDaerah','HiringPlatform',\n",
    "       'TingkatPendidikan','AlasanResign','IkutProgramLOP']\n",
    "\n",
    "plt.figure(figsize=(12,25))\n",
    "for i in range(len(obj)):\n",
    "    plt.subplot( 11,1, i+1 )\n",
    "    sns.countplot( data=df, y=df[obj[i]] )\n",
    "    plt.tight_layout()"
   ]
  },
  {
   "cell_type": "markdown",
   "metadata": {},
   "source": [
    "# Preprocessing"
   ]
  },
  {
   "cell_type": "code",
   "execution_count": 10,
   "metadata": {},
   "outputs": [],
   "source": [
    "df_pre = df.copy()"
   ]
  },
  {
   "cell_type": "markdown",
   "metadata": {},
   "source": [
    "**Etract Resign / Not Resign**\n",
    "- Resign = 1\n",
    "- Not_Resign = 0"
   ]
  },
  {
   "cell_type": "code",
   "execution_count": 11,
   "metadata": {},
   "outputs": [
    {
     "data": {
      "text/html": [
       "<div>\n",
       "<style scoped>\n",
       "    .dataframe tbody tr th:only-of-type {\n",
       "        vertical-align: middle;\n",
       "    }\n",
       "\n",
       "    .dataframe tbody tr th {\n",
       "        vertical-align: top;\n",
       "    }\n",
       "\n",
       "    .dataframe thead th {\n",
       "        text-align: right;\n",
       "    }\n",
       "</style>\n",
       "<table border=\"1\" class=\"dataframe\">\n",
       "  <thead>\n",
       "    <tr style=\"text-align: right;\">\n",
       "      <th></th>\n",
       "      <th>Username</th>\n",
       "      <th>EnterpriseID</th>\n",
       "      <th>StatusPernikahan</th>\n",
       "      <th>JenisKelamin</th>\n",
       "      <th>StatusKepegawaian</th>\n",
       "      <th>Pekerjaan</th>\n",
       "      <th>JenjangKarir</th>\n",
       "      <th>PerformancePegawai</th>\n",
       "      <th>AsalDaerah</th>\n",
       "      <th>HiringPlatform</th>\n",
       "      <th>SkorSurveyEngagement</th>\n",
       "      <th>SkorKepuasanPegawai</th>\n",
       "      <th>JumlahKeikutsertaanProjek</th>\n",
       "      <th>JumlahKeterlambatanSebulanTerakhir</th>\n",
       "      <th>JumlahKetidakhadiran</th>\n",
       "      <th>NomorHP</th>\n",
       "      <th>Email</th>\n",
       "      <th>TingkatPendidikan</th>\n",
       "      <th>PernahBekerja</th>\n",
       "      <th>IkutProgramLOP</th>\n",
       "      <th>AlasanResign</th>\n",
       "      <th>TanggalLahir</th>\n",
       "      <th>TanggalHiring</th>\n",
       "      <th>TanggalPenilaianKaryawan</th>\n",
       "      <th>TanggalResign</th>\n",
       "      <th>is_resign</th>\n",
       "    </tr>\n",
       "  </thead>\n",
       "  <tbody>\n",
       "    <tr>\n",
       "      <th>123</th>\n",
       "      <td>dopeyBass1</td>\n",
       "      <td>100398</td>\n",
       "      <td>Lainnya</td>\n",
       "      <td>Wanita</td>\n",
       "      <td>Outsource</td>\n",
       "      <td>Software Engineer (Back End)</td>\n",
       "      <td>Freshgraduate_program</td>\n",
       "      <td>Sangat_kurang</td>\n",
       "      <td>Jakarta Utara</td>\n",
       "      <td>Google_Search</td>\n",
       "      <td>3</td>\n",
       "      <td>5.0</td>\n",
       "      <td>0.0</td>\n",
       "      <td>0.0</td>\n",
       "      <td>5.0</td>\n",
       "      <td>+6283144061xxx</td>\n",
       "      <td>dopeyBass1665@proton.com</td>\n",
       "      <td>Magister</td>\n",
       "      <td>1</td>\n",
       "      <td>NaN</td>\n",
       "      <td>masih_bekerja</td>\n",
       "      <td>1967-01-16</td>\n",
       "      <td>2011-01-10</td>\n",
       "      <td>2015-03-04</td>\n",
       "      <td>-</td>\n",
       "      <td>0</td>\n",
       "    </tr>\n",
       "    <tr>\n",
       "      <th>115</th>\n",
       "      <td>wingedLeopard7</td>\n",
       "      <td>106436</td>\n",
       "      <td>Lainnya</td>\n",
       "      <td>Wanita</td>\n",
       "      <td>FullTime</td>\n",
       "      <td>Software Engineer (Front End)</td>\n",
       "      <td>Mid_level</td>\n",
       "      <td>Biasa</td>\n",
       "      <td>Jakarta Pusat</td>\n",
       "      <td>Google_Search</td>\n",
       "      <td>4</td>\n",
       "      <td>5.0</td>\n",
       "      <td>0.0</td>\n",
       "      <td>0.0</td>\n",
       "      <td>55.0</td>\n",
       "      <td>+6289913280xxx</td>\n",
       "      <td>wingedLeopard7878@hotmail.com</td>\n",
       "      <td>Sarjana</td>\n",
       "      <td>1</td>\n",
       "      <td>NaN</td>\n",
       "      <td>masih_bekerja</td>\n",
       "      <td>1973-01-12</td>\n",
       "      <td>2011-11-28</td>\n",
       "      <td>2020-02-11</td>\n",
       "      <td>-</td>\n",
       "      <td>0</td>\n",
       "    </tr>\n",
       "    <tr>\n",
       "      <th>214</th>\n",
       "      <td>peacefulEggs3</td>\n",
       "      <td>106621</td>\n",
       "      <td>Belum_menikah</td>\n",
       "      <td>Pria</td>\n",
       "      <td>FullTime</td>\n",
       "      <td>Software Engineer (Android)</td>\n",
       "      <td>Freshgraduate_program</td>\n",
       "      <td>Biasa</td>\n",
       "      <td>Jakarta Utara</td>\n",
       "      <td>LinkedIn</td>\n",
       "      <td>3</td>\n",
       "      <td>3.0</td>\n",
       "      <td>0.0</td>\n",
       "      <td>0.0</td>\n",
       "      <td>4.0</td>\n",
       "      <td>+6285683205xxx</td>\n",
       "      <td>peacefulEggs3191@yahoo.com</td>\n",
       "      <td>Magister</td>\n",
       "      <td>1</td>\n",
       "      <td>NaN</td>\n",
       "      <td>leadership</td>\n",
       "      <td>1985-03-14</td>\n",
       "      <td>2014-2-17</td>\n",
       "      <td>2020-01-11</td>\n",
       "      <td>2014-8-19</td>\n",
       "      <td>1</td>\n",
       "    </tr>\n",
       "    <tr>\n",
       "      <th>199</th>\n",
       "      <td>mercifulSmelt7</td>\n",
       "      <td>100520</td>\n",
       "      <td>Menikah</td>\n",
       "      <td>Pria</td>\n",
       "      <td>FullTime</td>\n",
       "      <td>Software Engineer (Front End)</td>\n",
       "      <td>Freshgraduate_program</td>\n",
       "      <td>Bagus</td>\n",
       "      <td>Jakarta Timur</td>\n",
       "      <td>Indeed</td>\n",
       "      <td>3</td>\n",
       "      <td>3.0</td>\n",
       "      <td>6.0</td>\n",
       "      <td>0.0</td>\n",
       "      <td>2.0</td>\n",
       "      <td>+6283307603xxx</td>\n",
       "      <td>mercifulSmelt7471@proton.com</td>\n",
       "      <td>Sarjana</td>\n",
       "      <td>1</td>\n",
       "      <td>NaN</td>\n",
       "      <td>NaN</td>\n",
       "      <td>1985-09-05</td>\n",
       "      <td>2012-09-05</td>\n",
       "      <td>2020-2-27</td>\n",
       "      <td>-</td>\n",
       "      <td>0</td>\n",
       "    </tr>\n",
       "    <tr>\n",
       "      <th>49</th>\n",
       "      <td>needfulCardinal0</td>\n",
       "      <td>105390</td>\n",
       "      <td>Bercerai</td>\n",
       "      <td>Wanita</td>\n",
       "      <td>Outsource</td>\n",
       "      <td>Software Engineer (Back End)</td>\n",
       "      <td>Senior_level</td>\n",
       "      <td>Bagus</td>\n",
       "      <td>Jakarta Timur</td>\n",
       "      <td>Indeed</td>\n",
       "      <td>4</td>\n",
       "      <td>3.0</td>\n",
       "      <td>0.0</td>\n",
       "      <td>0.0</td>\n",
       "      <td>19.0</td>\n",
       "      <td>+6281206622xxx</td>\n",
       "      <td>needfulCardinal0741@proton.com</td>\n",
       "      <td>Magister</td>\n",
       "      <td>1</td>\n",
       "      <td>NaN</td>\n",
       "      <td>tidak_bahagia</td>\n",
       "      <td>1989-09-01</td>\n",
       "      <td>2014-07-07</td>\n",
       "      <td>2020-2-27</td>\n",
       "      <td>2015-01-07</td>\n",
       "      <td>1</td>\n",
       "    </tr>\n",
       "  </tbody>\n",
       "</table>\n",
       "</div>"
      ],
      "text/plain": [
       "             Username  EnterpriseID StatusPernikahan JenisKelamin  \\\n",
       "123        dopeyBass1        100398          Lainnya       Wanita   \n",
       "115    wingedLeopard7        106436          Lainnya       Wanita   \n",
       "214     peacefulEggs3        106621    Belum_menikah         Pria   \n",
       "199    mercifulSmelt7        100520          Menikah         Pria   \n",
       "49   needfulCardinal0        105390         Bercerai       Wanita   \n",
       "\n",
       "    StatusKepegawaian                      Pekerjaan           JenjangKarir  \\\n",
       "123         Outsource   Software Engineer (Back End)  Freshgraduate_program   \n",
       "115          FullTime  Software Engineer (Front End)              Mid_level   \n",
       "214          FullTime    Software Engineer (Android)  Freshgraduate_program   \n",
       "199          FullTime  Software Engineer (Front End)  Freshgraduate_program   \n",
       "49          Outsource   Software Engineer (Back End)           Senior_level   \n",
       "\n",
       "    PerformancePegawai     AsalDaerah HiringPlatform  SkorSurveyEngagement  \\\n",
       "123      Sangat_kurang  Jakarta Utara  Google_Search                     3   \n",
       "115              Biasa  Jakarta Pusat  Google_Search                     4   \n",
       "214              Biasa  Jakarta Utara       LinkedIn                     3   \n",
       "199              Bagus  Jakarta Timur         Indeed                     3   \n",
       "49               Bagus  Jakarta Timur         Indeed                     4   \n",
       "\n",
       "     SkorKepuasanPegawai  JumlahKeikutsertaanProjek  \\\n",
       "123                  5.0                        0.0   \n",
       "115                  5.0                        0.0   \n",
       "214                  3.0                        0.0   \n",
       "199                  3.0                        6.0   \n",
       "49                   3.0                        0.0   \n",
       "\n",
       "     JumlahKeterlambatanSebulanTerakhir  JumlahKetidakhadiran         NomorHP  \\\n",
       "123                                 0.0                   5.0  +6283144061xxx   \n",
       "115                                 0.0                  55.0  +6289913280xxx   \n",
       "214                                 0.0                   4.0  +6285683205xxx   \n",
       "199                                 0.0                   2.0  +6283307603xxx   \n",
       "49                                  0.0                  19.0  +6281206622xxx   \n",
       "\n",
       "                              Email TingkatPendidikan PernahBekerja  \\\n",
       "123        dopeyBass1665@proton.com          Magister             1   \n",
       "115   wingedLeopard7878@hotmail.com           Sarjana             1   \n",
       "214      peacefulEggs3191@yahoo.com          Magister             1   \n",
       "199    mercifulSmelt7471@proton.com           Sarjana             1   \n",
       "49   needfulCardinal0741@proton.com          Magister             1   \n",
       "\n",
       "     IkutProgramLOP   AlasanResign TanggalLahir TanggalHiring  \\\n",
       "123             NaN  masih_bekerja   1967-01-16    2011-01-10   \n",
       "115             NaN  masih_bekerja   1973-01-12    2011-11-28   \n",
       "214             NaN     leadership   1985-03-14     2014-2-17   \n",
       "199             NaN            NaN   1985-09-05    2012-09-05   \n",
       "49              NaN  tidak_bahagia   1989-09-01    2014-07-07   \n",
       "\n",
       "    TanggalPenilaianKaryawan TanggalResign  is_resign  \n",
       "123               2015-03-04             -          0  \n",
       "115               2020-02-11             -          0  \n",
       "214               2020-01-11     2014-8-19          1  \n",
       "199                2020-2-27             -          0  \n",
       "49                 2020-2-27    2015-01-07          1  "
      ]
     },
     "execution_count": 11,
     "metadata": {},
     "output_type": "execute_result"
    }
   ],
   "source": [
    "def resign_validation(value):\n",
    "    if value != '-':\n",
    "        return 1\n",
    "    else:\n",
    "        return 0\n",
    "df_pre['is_resign']= df_pre['TanggalResign'].apply( lambda x: resign_validation(x) )\n",
    "df_pre.sample(5)"
   ]
  },
  {
   "cell_type": "markdown",
   "metadata": {},
   "source": [
    "## Handling Missing Value\n",
    "\n",
    "- SkorKepuasanPegawai = 1.74 %\n",
    "- JumlahKeikutsertaanProjek = 1.05% \n",
    "- JumlahKeterlambatanSebulanTerakhir = 0.35%\n",
    "- JumlahKetidakhadiran = 2.09 %\n",
    "- IkutProgramLOP = 89.90 %\n",
    "- AlasanResign = 23.00 %"
   ]
  },
  {
   "cell_type": "markdown",
   "metadata": {},
   "source": [
    "**Alsan Resign**\n",
    "\n",
    "Semua missing value pada fitur `Alsan Resign` merupakan karyawan yang masih bekerja. Sehingga fill missing value dengan 'masih_bekerja'"
   ]
  },
  {
   "cell_type": "code",
   "execution_count": 12,
   "metadata": {},
   "outputs": [
    {
     "data": {
      "text/plain": [
       "0"
      ]
     },
     "execution_count": 12,
     "metadata": {},
     "output_type": "execute_result"
    }
   ],
   "source": [
    "len( df_pre[ (df_pre['AlasanResign'].isna()==True) & (df_pre['is_resign']==1) ] ) #Check apakah ada karyawan resign, yang tidak mengisi form Alasan Resign "
   ]
  },
  {
   "cell_type": "code",
   "execution_count": 13,
   "metadata": {},
   "outputs": [
    {
     "data": {
      "text/plain": [
       "0"
      ]
     },
     "execution_count": 13,
     "metadata": {},
     "output_type": "execute_result"
    }
   ],
   "source": [
    "df_pre['AlasanResign'] = df_pre['AlasanResign'].fillna('masih_bekerja')\n",
    "df_pre['AlasanResign'].isna().sum()"
   ]
  },
  {
   "cell_type": "markdown",
   "metadata": {},
   "source": [
    "**Ikut Program LOP**\n",
    "\n",
    "Karena jumlah missing value terlalu banyak (89%), maka kita remove feature IkutProgramLOP|"
   ]
  },
  {
   "cell_type": "code",
   "execution_count": 14,
   "metadata": {},
   "outputs": [
    {
     "name": "stdout",
     "output_type": "stream",
     "text": [
      "1.0    15\n",
      "0.0    14\n",
      "Name: IkutProgramLOP, dtype: int64\n"
     ]
    }
   ],
   "source": [
    "print(df_pre['IkutProgramLOP'].value_counts())"
   ]
  },
  {
   "cell_type": "code",
   "execution_count": 15,
   "metadata": {},
   "outputs": [],
   "source": [
    "df_pre = df_pre.drop('IkutProgramLOP', axis=1)"
   ]
  },
  {
   "cell_type": "markdown",
   "metadata": {},
   "source": [
    "**Drop Missing Value**"
   ]
  },
  {
   "cell_type": "code",
   "execution_count": 16,
   "metadata": {},
   "outputs": [
    {
     "data": {
      "text/plain": [
       "Username                              0\n",
       "EnterpriseID                          0\n",
       "StatusPernikahan                      0\n",
       "JenisKelamin                          0\n",
       "StatusKepegawaian                     0\n",
       "Pekerjaan                             0\n",
       "JenjangKarir                          0\n",
       "PerformancePegawai                    0\n",
       "AsalDaerah                            0\n",
       "HiringPlatform                        0\n",
       "SkorSurveyEngagement                  0\n",
       "SkorKepuasanPegawai                   0\n",
       "JumlahKeikutsertaanProjek             0\n",
       "JumlahKeterlambatanSebulanTerakhir    0\n",
       "JumlahKetidakhadiran                  0\n",
       "NomorHP                               0\n",
       "Email                                 0\n",
       "TingkatPendidikan                     0\n",
       "PernahBekerja                         0\n",
       "AlasanResign                          0\n",
       "TanggalLahir                          0\n",
       "TanggalHiring                         0\n",
       "TanggalPenilaianKaryawan              0\n",
       "TanggalResign                         0\n",
       "is_resign                             0\n",
       "dtype: int64"
      ]
     },
     "execution_count": 16,
     "metadata": {},
     "output_type": "execute_result"
    }
   ],
   "source": [
    "df_pre = df_pre.dropna(subset=['JumlahKetidakhadiran','JumlahKeterlambatanSebulanTerakhir','JumlahKeikutsertaanProjek','SkorKepuasanPegawai'])\n",
    "df_pre.isna().sum()"
   ]
  },
  {
   "cell_type": "markdown",
   "metadata": {},
   "source": [
    "## Handling Invalid Value\n",
    "\n",
    "Feature `PernahBekerja` memiliki unique value (1 & yes) yang memiliki kesamaan arti. Karena value pada feature tersebut memiliki arti yang sama, maka kita remove feature tersebut"
   ]
  },
  {
   "cell_type": "code",
   "execution_count": 17,
   "metadata": {},
   "outputs": [
    {
     "data": {
      "text/plain": [
       "1      274\n",
       "yes      1\n",
       "Name: PernahBekerja, dtype: int64"
      ]
     },
     "execution_count": 17,
     "metadata": {},
     "output_type": "execute_result"
    }
   ],
   "source": [
    "df_pre['PernahBekerja'].value_counts()"
   ]
  },
  {
   "cell_type": "code",
   "execution_count": 18,
   "metadata": {},
   "outputs": [],
   "source": [
    "df_pre = df_pre.drop('PernahBekerja', axis=1)"
   ]
  },
  {
   "cell_type": "markdown",
   "metadata": {},
   "source": [
    "## Handling Invalid Data Type"
   ]
  },
  {
   "cell_type": "code",
   "execution_count": 19,
   "metadata": {},
   "outputs": [],
   "source": [
    "df_pre['TanggalLahir'] = pd.to_datetime( df_pre['TanggalLahir'] )\n",
    "df_pre['TanggalHiring'] = pd.to_datetime( df_pre['TanggalHiring'] )\n",
    "df_pre['TanggalPenilaianKaryawan'] = pd.to_datetime( df_pre['TanggalPenilaianKaryawan'] )\n",
    "df_pre['TanggalResign'] = pd.to_datetime( df_pre['TanggalResign'], errors='coerce')\n"
   ]
  },
  {
   "cell_type": "code",
   "execution_count": 20,
   "metadata": {},
   "outputs": [
    {
     "name": "stdout",
     "output_type": "stream",
     "text": [
      "<class 'pandas.core.frame.DataFrame'>\n",
      "Int64Index: 275 entries, 0 to 286\n",
      "Data columns (total 24 columns):\n",
      " #   Column                              Non-Null Count  Dtype         \n",
      "---  ------                              --------------  -----         \n",
      " 0   Username                            275 non-null    object        \n",
      " 1   EnterpriseID                        275 non-null    int64         \n",
      " 2   StatusPernikahan                    275 non-null    object        \n",
      " 3   JenisKelamin                        275 non-null    object        \n",
      " 4   StatusKepegawaian                   275 non-null    object        \n",
      " 5   Pekerjaan                           275 non-null    object        \n",
      " 6   JenjangKarir                        275 non-null    object        \n",
      " 7   PerformancePegawai                  275 non-null    object        \n",
      " 8   AsalDaerah                          275 non-null    object        \n",
      " 9   HiringPlatform                      275 non-null    object        \n",
      " 10  SkorSurveyEngagement                275 non-null    int64         \n",
      " 11  SkorKepuasanPegawai                 275 non-null    float64       \n",
      " 12  JumlahKeikutsertaanProjek           275 non-null    float64       \n",
      " 13  JumlahKeterlambatanSebulanTerakhir  275 non-null    float64       \n",
      " 14  JumlahKetidakhadiran                275 non-null    float64       \n",
      " 15  NomorHP                             275 non-null    object        \n",
      " 16  Email                               275 non-null    object        \n",
      " 17  TingkatPendidikan                   275 non-null    object        \n",
      " 18  AlasanResign                        275 non-null    object        \n",
      " 19  TanggalLahir                        275 non-null    datetime64[ns]\n",
      " 20  TanggalHiring                       275 non-null    datetime64[ns]\n",
      " 21  TanggalPenilaianKaryawan            275 non-null    datetime64[ns]\n",
      " 22  TanggalResign                       86 non-null     datetime64[ns]\n",
      " 23  is_resign                           275 non-null    int64         \n",
      "dtypes: datetime64[ns](4), float64(4), int64(3), object(13)\n",
      "memory usage: 53.7+ KB\n"
     ]
    }
   ],
   "source": [
    "df_pre.info()"
   ]
  },
  {
   "cell_type": "code",
   "execution_count": 21,
   "metadata": {},
   "outputs": [
    {
     "data": {
      "text/html": [
       "<div>\n",
       "<style scoped>\n",
       "    .dataframe tbody tr th:only-of-type {\n",
       "        vertical-align: middle;\n",
       "    }\n",
       "\n",
       "    .dataframe tbody tr th {\n",
       "        vertical-align: top;\n",
       "    }\n",
       "\n",
       "    .dataframe thead th {\n",
       "        text-align: right;\n",
       "    }\n",
       "</style>\n",
       "<table border=\"1\" class=\"dataframe\">\n",
       "  <thead>\n",
       "    <tr style=\"text-align: right;\">\n",
       "      <th></th>\n",
       "      <th>Username</th>\n",
       "      <th>EnterpriseID</th>\n",
       "      <th>StatusPernikahan</th>\n",
       "      <th>JenisKelamin</th>\n",
       "      <th>StatusKepegawaian</th>\n",
       "      <th>Pekerjaan</th>\n",
       "      <th>JenjangKarir</th>\n",
       "      <th>PerformancePegawai</th>\n",
       "      <th>AsalDaerah</th>\n",
       "      <th>HiringPlatform</th>\n",
       "      <th>SkorSurveyEngagement</th>\n",
       "      <th>SkorKepuasanPegawai</th>\n",
       "      <th>JumlahKeikutsertaanProjek</th>\n",
       "      <th>JumlahKeterlambatanSebulanTerakhir</th>\n",
       "      <th>JumlahKetidakhadiran</th>\n",
       "      <th>NomorHP</th>\n",
       "      <th>Email</th>\n",
       "      <th>TingkatPendidikan</th>\n",
       "      <th>AlasanResign</th>\n",
       "      <th>TanggalLahir</th>\n",
       "      <th>TanggalHiring</th>\n",
       "      <th>TanggalPenilaianKaryawan</th>\n",
       "      <th>TanggalResign</th>\n",
       "      <th>is_resign</th>\n",
       "    </tr>\n",
       "  </thead>\n",
       "  <tbody>\n",
       "    <tr>\n",
       "      <th>0</th>\n",
       "      <td>spiritedPorpoise3</td>\n",
       "      <td>111065</td>\n",
       "      <td>Belum_menikah</td>\n",
       "      <td>Pria</td>\n",
       "      <td>Outsource</td>\n",
       "      <td>Software Engineer (Back End)</td>\n",
       "      <td>Freshgraduate_program</td>\n",
       "      <td>Sangat_bagus</td>\n",
       "      <td>Jakarta Timur</td>\n",
       "      <td>Employee_Referral</td>\n",
       "      <td>4</td>\n",
       "      <td>4.0</td>\n",
       "      <td>0.0</td>\n",
       "      <td>0.0</td>\n",
       "      <td>9.0</td>\n",
       "      <td>+6282232522xxx</td>\n",
       "      <td>spiritedPorpoise3135@yahoo.com</td>\n",
       "      <td>Magister</td>\n",
       "      <td>masih_bekerja</td>\n",
       "      <td>1972-07-01</td>\n",
       "      <td>2011-01-10</td>\n",
       "      <td>2016-02-15</td>\n",
       "      <td>NaT</td>\n",
       "      <td>0</td>\n",
       "    </tr>\n",
       "    <tr>\n",
       "      <th>1</th>\n",
       "      <td>jealousGelding2</td>\n",
       "      <td>106080</td>\n",
       "      <td>Belum_menikah</td>\n",
       "      <td>Pria</td>\n",
       "      <td>FullTime</td>\n",
       "      <td>Data Analyst</td>\n",
       "      <td>Freshgraduate_program</td>\n",
       "      <td>Sangat_kurang</td>\n",
       "      <td>Jakarta Utara</td>\n",
       "      <td>Website</td>\n",
       "      <td>4</td>\n",
       "      <td>4.0</td>\n",
       "      <td>4.0</td>\n",
       "      <td>0.0</td>\n",
       "      <td>3.0</td>\n",
       "      <td>+6281270745xxx</td>\n",
       "      <td>jealousGelding2239@yahoo.com</td>\n",
       "      <td>Sarjana</td>\n",
       "      <td>toxic_culture</td>\n",
       "      <td>1984-04-26</td>\n",
       "      <td>2014-01-06</td>\n",
       "      <td>2020-01-17</td>\n",
       "      <td>2018-06-16</td>\n",
       "      <td>1</td>\n",
       "    </tr>\n",
       "    <tr>\n",
       "      <th>2</th>\n",
       "      <td>pluckyMuesli3</td>\n",
       "      <td>106452</td>\n",
       "      <td>Menikah</td>\n",
       "      <td>Pria</td>\n",
       "      <td>FullTime</td>\n",
       "      <td>Software Engineer (Front End)</td>\n",
       "      <td>Freshgraduate_program</td>\n",
       "      <td>Bagus</td>\n",
       "      <td>Jakarta Timur</td>\n",
       "      <td>Indeed</td>\n",
       "      <td>4</td>\n",
       "      <td>3.0</td>\n",
       "      <td>0.0</td>\n",
       "      <td>0.0</td>\n",
       "      <td>11.0</td>\n",
       "      <td>+6281346215xxx</td>\n",
       "      <td>pluckyMuesli3961@icloud.com</td>\n",
       "      <td>Magister</td>\n",
       "      <td>jam_kerja</td>\n",
       "      <td>1974-01-07</td>\n",
       "      <td>2011-01-10</td>\n",
       "      <td>2016-01-10</td>\n",
       "      <td>2014-09-24</td>\n",
       "      <td>1</td>\n",
       "    </tr>\n",
       "  </tbody>\n",
       "</table>\n",
       "</div>"
      ],
      "text/plain": [
       "            Username  EnterpriseID StatusPernikahan JenisKelamin  \\\n",
       "0  spiritedPorpoise3        111065    Belum_menikah         Pria   \n",
       "1    jealousGelding2        106080    Belum_menikah         Pria   \n",
       "2      pluckyMuesli3        106452          Menikah         Pria   \n",
       "\n",
       "  StatusKepegawaian                      Pekerjaan           JenjangKarir  \\\n",
       "0         Outsource   Software Engineer (Back End)  Freshgraduate_program   \n",
       "1          FullTime                   Data Analyst  Freshgraduate_program   \n",
       "2          FullTime  Software Engineer (Front End)  Freshgraduate_program   \n",
       "\n",
       "  PerformancePegawai     AsalDaerah     HiringPlatform  SkorSurveyEngagement  \\\n",
       "0       Sangat_bagus  Jakarta Timur  Employee_Referral                     4   \n",
       "1      Sangat_kurang  Jakarta Utara            Website                     4   \n",
       "2              Bagus  Jakarta Timur             Indeed                     4   \n",
       "\n",
       "   SkorKepuasanPegawai  JumlahKeikutsertaanProjek  \\\n",
       "0                  4.0                        0.0   \n",
       "1                  4.0                        4.0   \n",
       "2                  3.0                        0.0   \n",
       "\n",
       "   JumlahKeterlambatanSebulanTerakhir  JumlahKetidakhadiran         NomorHP  \\\n",
       "0                                 0.0                   9.0  +6282232522xxx   \n",
       "1                                 0.0                   3.0  +6281270745xxx   \n",
       "2                                 0.0                  11.0  +6281346215xxx   \n",
       "\n",
       "                            Email TingkatPendidikan   AlasanResign  \\\n",
       "0  spiritedPorpoise3135@yahoo.com          Magister  masih_bekerja   \n",
       "1    jealousGelding2239@yahoo.com           Sarjana  toxic_culture   \n",
       "2     pluckyMuesli3961@icloud.com          Magister      jam_kerja   \n",
       "\n",
       "  TanggalLahir TanggalHiring TanggalPenilaianKaryawan TanggalResign  is_resign  \n",
       "0   1972-07-01    2011-01-10               2016-02-15           NaT          0  \n",
       "1   1984-04-26    2014-01-06               2020-01-17    2018-06-16          1  \n",
       "2   1974-01-07    2011-01-10               2016-01-10    2014-09-24          1  "
      ]
     },
     "execution_count": 21,
     "metadata": {},
     "output_type": "execute_result"
    }
   ],
   "source": [
    "df_pre.head(3)"
   ]
  },
  {
   "cell_type": "markdown",
   "metadata": {},
   "source": [
    "## Feature Endcoding"
   ]
  },
  {
   "cell_type": "markdown",
   "metadata": {},
   "source": [
    "**JenisKelamin**"
   ]
  },
  {
   "cell_type": "code",
   "execution_count": 22,
   "metadata": {},
   "outputs": [
    {
     "data": {
      "text/html": [
       "<div>\n",
       "<style scoped>\n",
       "    .dataframe tbody tr th:only-of-type {\n",
       "        vertical-align: middle;\n",
       "    }\n",
       "\n",
       "    .dataframe tbody tr th {\n",
       "        vertical-align: top;\n",
       "    }\n",
       "\n",
       "    .dataframe thead th {\n",
       "        text-align: right;\n",
       "    }\n",
       "</style>\n",
       "<table border=\"1\" class=\"dataframe\">\n",
       "  <thead>\n",
       "    <tr style=\"text-align: right;\">\n",
       "      <th></th>\n",
       "      <th>is_Male</th>\n",
       "      <th>JenisKelamin</th>\n",
       "    </tr>\n",
       "  </thead>\n",
       "  <tbody>\n",
       "    <tr>\n",
       "      <th>16</th>\n",
       "      <td>1</td>\n",
       "      <td>Pria</td>\n",
       "    </tr>\n",
       "    <tr>\n",
       "      <th>269</th>\n",
       "      <td>0</td>\n",
       "      <td>Wanita</td>\n",
       "    </tr>\n",
       "  </tbody>\n",
       "</table>\n",
       "</div>"
      ],
      "text/plain": [
       "     is_Male JenisKelamin\n",
       "16         1         Pria\n",
       "269        0       Wanita"
      ]
     },
     "execution_count": 22,
     "metadata": {},
     "output_type": "execute_result"
    }
   ],
   "source": [
    "df_pre['is_Male'] = df_pre['JenisKelamin'].replace({'Pria':1, 'Wanita':0})\n",
    "df_pre[['is_Male','JenisKelamin']].sample(2, random_state=23)"
   ]
  },
  {
   "cell_type": "markdown",
   "metadata": {},
   "source": [
    "**Jenjang Karir**"
   ]
  },
  {
   "cell_type": "code",
   "execution_count": 23,
   "metadata": {},
   "outputs": [
    {
     "data": {
      "text/html": [
       "<div>\n",
       "<style scoped>\n",
       "    .dataframe tbody tr th:only-of-type {\n",
       "        vertical-align: middle;\n",
       "    }\n",
       "\n",
       "    .dataframe tbody tr th {\n",
       "        vertical-align: top;\n",
       "    }\n",
       "\n",
       "    .dataframe thead th {\n",
       "        text-align: right;\n",
       "    }\n",
       "</style>\n",
       "<table border=\"1\" class=\"dataframe\">\n",
       "  <thead>\n",
       "    <tr style=\"text-align: right;\">\n",
       "      <th></th>\n",
       "      <th>Career_level</th>\n",
       "      <th>JenjangKarir</th>\n",
       "    </tr>\n",
       "  </thead>\n",
       "  <tbody>\n",
       "    <tr>\n",
       "      <th>205</th>\n",
       "      <td>2</td>\n",
       "      <td>Senior_level</td>\n",
       "    </tr>\n",
       "    <tr>\n",
       "      <th>56</th>\n",
       "      <td>1</td>\n",
       "      <td>Mid_level</td>\n",
       "    </tr>\n",
       "    <tr>\n",
       "      <th>18</th>\n",
       "      <td>0</td>\n",
       "      <td>Freshgraduate_program</td>\n",
       "    </tr>\n",
       "  </tbody>\n",
       "</table>\n",
       "</div>"
      ],
      "text/plain": [
       "     Career_level           JenjangKarir\n",
       "205             2           Senior_level\n",
       "56              1              Mid_level\n",
       "18              0  Freshgraduate_program"
      ]
     },
     "execution_count": 23,
     "metadata": {},
     "output_type": "execute_result"
    }
   ],
   "source": [
    "def jenjangkarir_endcode(values):\n",
    "    if values == 'Freshgraduate_program':\n",
    "        return 0\n",
    "    elif values == 'Mid_level':\n",
    "        return 1\n",
    "    elif values == 'Senior_level':\n",
    "        return 2\n",
    "\n",
    "df_pre['Career_level'] = df_pre['JenjangKarir'].apply(lambda x : jenjangkarir_endcode(x))\n",
    "\n",
    "df_pre[['Career_level','JenjangKarir']].sample(3,random_state=12)"
   ]
  },
  {
   "cell_type": "markdown",
   "metadata": {},
   "source": [
    "**Performance Pegawai**"
   ]
  },
  {
   "cell_type": "code",
   "execution_count": 24,
   "metadata": {},
   "outputs": [
    {
     "data": {
      "text/plain": [
       "Biasa            79\n",
       "Bagus            74\n",
       "Sangat_bagus     72\n",
       "Kurang           29\n",
       "Sangat_kurang    21\n",
       "Name: PerformancePegawai, dtype: int64"
      ]
     },
     "execution_count": 24,
     "metadata": {},
     "output_type": "execute_result"
    }
   ],
   "source": [
    "df_pre['PerformancePegawai'].value_counts()"
   ]
  },
  {
   "cell_type": "code",
   "execution_count": 25,
   "metadata": {},
   "outputs": [
    {
     "data": {
      "text/html": [
       "<div>\n",
       "<style scoped>\n",
       "    .dataframe tbody tr th:only-of-type {\n",
       "        vertical-align: middle;\n",
       "    }\n",
       "\n",
       "    .dataframe tbody tr th {\n",
       "        vertical-align: top;\n",
       "    }\n",
       "\n",
       "    .dataframe thead th {\n",
       "        text-align: right;\n",
       "    }\n",
       "</style>\n",
       "<table border=\"1\" class=\"dataframe\">\n",
       "  <thead>\n",
       "    <tr style=\"text-align: right;\">\n",
       "      <th></th>\n",
       "      <th>Employee_Performance</th>\n",
       "      <th>PerformancePegawai</th>\n",
       "    </tr>\n",
       "  </thead>\n",
       "  <tbody>\n",
       "    <tr>\n",
       "      <th>277</th>\n",
       "      <td>5</td>\n",
       "      <td>Sangat_bagus</td>\n",
       "    </tr>\n",
       "    <tr>\n",
       "      <th>243</th>\n",
       "      <td>3</td>\n",
       "      <td>Biasa</td>\n",
       "    </tr>\n",
       "    <tr>\n",
       "      <th>138</th>\n",
       "      <td>2</td>\n",
       "      <td>Kurang</td>\n",
       "    </tr>\n",
       "    <tr>\n",
       "      <th>203</th>\n",
       "      <td>5</td>\n",
       "      <td>Sangat_bagus</td>\n",
       "    </tr>\n",
       "    <tr>\n",
       "      <th>273</th>\n",
       "      <td>4</td>\n",
       "      <td>Bagus</td>\n",
       "    </tr>\n",
       "  </tbody>\n",
       "</table>\n",
       "</div>"
      ],
      "text/plain": [
       "     Employee_Performance PerformancePegawai\n",
       "277                     5       Sangat_bagus\n",
       "243                     3              Biasa\n",
       "138                     2             Kurang\n",
       "203                     5       Sangat_bagus\n",
       "273                     4              Bagus"
      ]
     },
     "execution_count": 25,
     "metadata": {},
     "output_type": "execute_result"
    }
   ],
   "source": [
    "def PerformancePegawai_endcode(values):\n",
    "    if values == 'Sangat_kurang':\n",
    "        return 1\n",
    "    elif values == 'Kurang':\n",
    "        return 2\n",
    "    elif values == 'Biasa':\n",
    "        return 3\n",
    "    elif values == 'Bagus':\n",
    "        return 4\n",
    "    elif values == 'Sangat_bagus':\n",
    "        return 5\n",
    "\n",
    "df_pre['Employee_Performance'] = df_pre['PerformancePegawai'].apply(lambda x : PerformancePegawai_endcode(x))\n",
    "df_pre[['Employee_Performance','PerformancePegawai']].sample(5,random_state=22)"
   ]
  },
  {
   "cell_type": "markdown",
   "metadata": {},
   "source": [
    "**Tingkat Pendidikan**"
   ]
  },
  {
   "cell_type": "code",
   "execution_count": 26,
   "metadata": {},
   "outputs": [
    {
     "data": {
      "text/html": [
       "<div>\n",
       "<style scoped>\n",
       "    .dataframe tbody tr th:only-of-type {\n",
       "        vertical-align: middle;\n",
       "    }\n",
       "\n",
       "    .dataframe tbody tr th {\n",
       "        vertical-align: top;\n",
       "    }\n",
       "\n",
       "    .dataframe thead th {\n",
       "        text-align: right;\n",
       "    }\n",
       "</style>\n",
       "<table border=\"1\" class=\"dataframe\">\n",
       "  <thead>\n",
       "    <tr style=\"text-align: right;\">\n",
       "      <th></th>\n",
       "      <th>Education_level</th>\n",
       "      <th>TingkatPendidikan</th>\n",
       "    </tr>\n",
       "  </thead>\n",
       "  <tbody>\n",
       "    <tr>\n",
       "      <th>234</th>\n",
       "      <td>3</td>\n",
       "      <td>Doktor</td>\n",
       "    </tr>\n",
       "    <tr>\n",
       "      <th>203</th>\n",
       "      <td>1</td>\n",
       "      <td>Sarjana</td>\n",
       "    </tr>\n",
       "    <tr>\n",
       "      <th>181</th>\n",
       "      <td>2</td>\n",
       "      <td>Magister</td>\n",
       "    </tr>\n",
       "  </tbody>\n",
       "</table>\n",
       "</div>"
      ],
      "text/plain": [
       "     Education_level TingkatPendidikan\n",
       "234                3            Doktor\n",
       "203                1           Sarjana\n",
       "181                2          Magister"
      ]
     },
     "execution_count": 26,
     "metadata": {},
     "output_type": "execute_result"
    }
   ],
   "source": [
    "def TingkatPendidikan_endcode(values):\n",
    "    if values == 'Sarjana':\n",
    "        return 1\n",
    "    elif values == 'Magister':\n",
    "        return 2\n",
    "    elif values == 'Doktor':\n",
    "        return 3\n",
    "\n",
    "df_pre['Education_level'] = df_pre['TingkatPendidikan'].apply(lambda x : TingkatPendidikan_endcode(x))\n",
    "\n",
    "df_pre[['Education_level','TingkatPendidikan']].sample(3,random_state=17)\n"
   ]
  },
  {
   "cell_type": "markdown",
   "metadata": {},
   "source": [
    "**Status Kepegawaian**"
   ]
  },
  {
   "cell_type": "code",
   "execution_count": 55,
   "metadata": {},
   "outputs": [
    {
     "data": {
      "text/plain": [
       "FullTime      208\n",
       "Outsource      63\n",
       "Internship      4\n",
       "Name: StatusKepegawaian, dtype: int64"
      ]
     },
     "execution_count": 55,
     "metadata": {},
     "output_type": "execute_result"
    }
   ],
   "source": [
    "df_pre['StatusKepegawaian'].value_counts()"
   ]
  },
  {
   "cell_type": "code",
   "execution_count": 27,
   "metadata": {},
   "outputs": [
    {
     "data": {
      "text/html": [
       "<div>\n",
       "<style scoped>\n",
       "    .dataframe tbody tr th:only-of-type {\n",
       "        vertical-align: middle;\n",
       "    }\n",
       "\n",
       "    .dataframe tbody tr th {\n",
       "        vertical-align: top;\n",
       "    }\n",
       "\n",
       "    .dataframe thead th {\n",
       "        text-align: right;\n",
       "    }\n",
       "</style>\n",
       "<table border=\"1\" class=\"dataframe\">\n",
       "  <thead>\n",
       "    <tr style=\"text-align: right;\">\n",
       "      <th></th>\n",
       "      <th>Username</th>\n",
       "      <th>EnterpriseID</th>\n",
       "      <th>StatusPernikahan</th>\n",
       "      <th>JenisKelamin</th>\n",
       "      <th>StatusKepegawaian</th>\n",
       "      <th>Pekerjaan</th>\n",
       "      <th>JenjangKarir</th>\n",
       "      <th>PerformancePegawai</th>\n",
       "      <th>AsalDaerah</th>\n",
       "      <th>HiringPlatform</th>\n",
       "      <th>SkorSurveyEngagement</th>\n",
       "      <th>SkorKepuasanPegawai</th>\n",
       "      <th>JumlahKeikutsertaanProjek</th>\n",
       "      <th>JumlahKeterlambatanSebulanTerakhir</th>\n",
       "      <th>JumlahKetidakhadiran</th>\n",
       "      <th>NomorHP</th>\n",
       "      <th>Email</th>\n",
       "      <th>TingkatPendidikan</th>\n",
       "      <th>AlasanResign</th>\n",
       "      <th>TanggalLahir</th>\n",
       "      <th>TanggalHiring</th>\n",
       "      <th>TanggalPenilaianKaryawan</th>\n",
       "      <th>TanggalResign</th>\n",
       "      <th>is_resign</th>\n",
       "      <th>is_Male</th>\n",
       "      <th>Career_level</th>\n",
       "      <th>Employee_Performance</th>\n",
       "      <th>Education_level</th>\n",
       "    </tr>\n",
       "  </thead>\n",
       "  <tbody>\n",
       "    <tr>\n",
       "      <th>0</th>\n",
       "      <td>spiritedPorpoise3</td>\n",
       "      <td>111065</td>\n",
       "      <td>Belum_menikah</td>\n",
       "      <td>Pria</td>\n",
       "      <td>Outsource</td>\n",
       "      <td>Software Engineer (Back End)</td>\n",
       "      <td>Freshgraduate_program</td>\n",
       "      <td>Sangat_bagus</td>\n",
       "      <td>Jakarta Timur</td>\n",
       "      <td>Employee_Referral</td>\n",
       "      <td>4</td>\n",
       "      <td>4.0</td>\n",
       "      <td>0.0</td>\n",
       "      <td>0.0</td>\n",
       "      <td>9.0</td>\n",
       "      <td>+6282232522xxx</td>\n",
       "      <td>spiritedPorpoise3135@yahoo.com</td>\n",
       "      <td>Magister</td>\n",
       "      <td>masih_bekerja</td>\n",
       "      <td>1972-07-01</td>\n",
       "      <td>2011-01-10</td>\n",
       "      <td>2016-02-15</td>\n",
       "      <td>NaT</td>\n",
       "      <td>0</td>\n",
       "      <td>1</td>\n",
       "      <td>0</td>\n",
       "      <td>5</td>\n",
       "      <td>2</td>\n",
       "    </tr>\n",
       "    <tr>\n",
       "      <th>1</th>\n",
       "      <td>jealousGelding2</td>\n",
       "      <td>106080</td>\n",
       "      <td>Belum_menikah</td>\n",
       "      <td>Pria</td>\n",
       "      <td>FullTime</td>\n",
       "      <td>Data Analyst</td>\n",
       "      <td>Freshgraduate_program</td>\n",
       "      <td>Sangat_kurang</td>\n",
       "      <td>Jakarta Utara</td>\n",
       "      <td>Website</td>\n",
       "      <td>4</td>\n",
       "      <td>4.0</td>\n",
       "      <td>4.0</td>\n",
       "      <td>0.0</td>\n",
       "      <td>3.0</td>\n",
       "      <td>+6281270745xxx</td>\n",
       "      <td>jealousGelding2239@yahoo.com</td>\n",
       "      <td>Sarjana</td>\n",
       "      <td>toxic_culture</td>\n",
       "      <td>1984-04-26</td>\n",
       "      <td>2014-01-06</td>\n",
       "      <td>2020-01-17</td>\n",
       "      <td>2018-06-16</td>\n",
       "      <td>1</td>\n",
       "      <td>1</td>\n",
       "      <td>0</td>\n",
       "      <td>1</td>\n",
       "      <td>1</td>\n",
       "    </tr>\n",
       "  </tbody>\n",
       "</table>\n",
       "</div>"
      ],
      "text/plain": [
       "            Username  EnterpriseID StatusPernikahan JenisKelamin  \\\n",
       "0  spiritedPorpoise3        111065    Belum_menikah         Pria   \n",
       "1    jealousGelding2        106080    Belum_menikah         Pria   \n",
       "\n",
       "  StatusKepegawaian                     Pekerjaan           JenjangKarir  \\\n",
       "0         Outsource  Software Engineer (Back End)  Freshgraduate_program   \n",
       "1          FullTime                  Data Analyst  Freshgraduate_program   \n",
       "\n",
       "  PerformancePegawai     AsalDaerah     HiringPlatform  SkorSurveyEngagement  \\\n",
       "0       Sangat_bagus  Jakarta Timur  Employee_Referral                     4   \n",
       "1      Sangat_kurang  Jakarta Utara            Website                     4   \n",
       "\n",
       "   SkorKepuasanPegawai  JumlahKeikutsertaanProjek  \\\n",
       "0                  4.0                        0.0   \n",
       "1                  4.0                        4.0   \n",
       "\n",
       "   JumlahKeterlambatanSebulanTerakhir  JumlahKetidakhadiran         NomorHP  \\\n",
       "0                                 0.0                   9.0  +6282232522xxx   \n",
       "1                                 0.0                   3.0  +6281270745xxx   \n",
       "\n",
       "                            Email TingkatPendidikan   AlasanResign  \\\n",
       "0  spiritedPorpoise3135@yahoo.com          Magister  masih_bekerja   \n",
       "1    jealousGelding2239@yahoo.com           Sarjana  toxic_culture   \n",
       "\n",
       "  TanggalLahir TanggalHiring TanggalPenilaianKaryawan TanggalResign  \\\n",
       "0   1972-07-01    2011-01-10               2016-02-15           NaT   \n",
       "1   1984-04-26    2014-01-06               2020-01-17    2018-06-16   \n",
       "\n",
       "   is_resign  is_Male  Career_level  Employee_Performance  Education_level  \n",
       "0          0        1             0                     5                2  \n",
       "1          1        1             0                     1                1  "
      ]
     },
     "execution_count": 27,
     "metadata": {},
     "output_type": "execute_result"
    }
   ],
   "source": [
    "df_pre.head(2)"
   ]
  },
  {
   "cell_type": "markdown",
   "metadata": {},
   "source": [
    "# Insight \n",
    "Dalam konteks manajemen karyawan, perusahaan perlu mengetahui berapa perubahan jumlah karyawan setiap tahunnya agar bisa menyesuaikan langkah strategis guna meningkatkan kinerja perusahaan dan bisa bertahan di dunia yang terdisrupsi ini. Salah satu langkah yang telah dibuat perusahaan adalah melakukan perubahan budaya kerja setiap tahunnya yang mengacu pada jumlah karyawan yang ada, semakin banyak karyawan maka office space yang perlu disiapkan juga semakin bertambah, serta kebijakan-kebijakan lain seperti besaran bonus maksimal untuk karyawan yang performanya baik di tahun tersebut dan lain-lain. Setiap tahunnya perusahaan menyadari ada yang keluar dan ada yang masuk (karyawan), namun apabila pada tahun tertentu jumlah karyawan yang keluar lebih banyak dari yang masuk artinya perusahaan perlu berbenah diri agar karyawan lain tetap bertahan sehingga rancangan strategi jangka panjang tetap dapat dilaksanakan tanpa kendala.\n",
    "\n",
    "1. Buatlah dua tabel agregat yang menghitung jumlah karyawan yang masuk dan keluar berdasarkan tahun hiring dan tahun resign (Hint: Convert tahun hiring dan resign dari fitur TanggalHiring dan TanggalResign) \n",
    "2. Join dua tabel tersebut berdasarkan tahun resign dan hiring agar menjadi satu tabel utuh (Hint: Gunakan outer join agar tahun di hiring dan resign dapat bersatu) \n",
    "3. Lakukan imputation pada data tahun yang kosong sesuai urutan (Hint: Gunakan fillna) \n",
    "4. Hitung total karyawan yang resign, yang masih bertahan, dan perubahannya pada setiap tahunnya dari table hasil join pada tahap dua (2) (Hint: Untuk perubahan, hitung dari total karyawan yang ada - total karyawan yang resign di setiap tahunnya) \n",
    "5. Buatlah plot yang menunjukan perubahan kenaikan dan penurunan di setiap tahun yang ada (Hint: Perhatikan jenis plot yang digunakan) \n",
    "6. Tuliskan interpretasi terhadap hasil plot pada langkah sebelumnya (Hint: Jelaskan kondisi perusahaan apakah sedang sehat / mengkhawatirkan berdasarkan jumlah karyawan tahunan)"
   ]
  },
  {
   "cell_type": "code",
   "execution_count": 28,
   "metadata": {},
   "outputs": [
    {
     "data": {
      "text/html": [
       "<div>\n",
       "<style scoped>\n",
       "    .dataframe tbody tr th:only-of-type {\n",
       "        vertical-align: middle;\n",
       "    }\n",
       "\n",
       "    .dataframe tbody tr th {\n",
       "        vertical-align: top;\n",
       "    }\n",
       "\n",
       "    .dataframe thead th {\n",
       "        text-align: right;\n",
       "    }\n",
       "</style>\n",
       "<table border=\"1\" class=\"dataframe\">\n",
       "  <thead>\n",
       "    <tr style=\"text-align: right;\">\n",
       "      <th></th>\n",
       "      <th>Username</th>\n",
       "      <th>EnterpriseID</th>\n",
       "      <th>StatusPernikahan</th>\n",
       "      <th>JenisKelamin</th>\n",
       "      <th>StatusKepegawaian</th>\n",
       "      <th>Pekerjaan</th>\n",
       "      <th>JenjangKarir</th>\n",
       "      <th>PerformancePegawai</th>\n",
       "      <th>AsalDaerah</th>\n",
       "      <th>HiringPlatform</th>\n",
       "      <th>SkorSurveyEngagement</th>\n",
       "      <th>SkorKepuasanPegawai</th>\n",
       "      <th>JumlahKeikutsertaanProjek</th>\n",
       "      <th>JumlahKeterlambatanSebulanTerakhir</th>\n",
       "      <th>JumlahKetidakhadiran</th>\n",
       "      <th>NomorHP</th>\n",
       "      <th>Email</th>\n",
       "      <th>TingkatPendidikan</th>\n",
       "      <th>AlasanResign</th>\n",
       "      <th>TanggalLahir</th>\n",
       "      <th>TanggalHiring</th>\n",
       "      <th>TanggalPenilaianKaryawan</th>\n",
       "      <th>TanggalResign</th>\n",
       "      <th>is_resign</th>\n",
       "      <th>is_Male</th>\n",
       "      <th>Career_level</th>\n",
       "      <th>Employee_Performance</th>\n",
       "      <th>Education_level</th>\n",
       "    </tr>\n",
       "  </thead>\n",
       "  <tbody>\n",
       "    <tr>\n",
       "      <th>0</th>\n",
       "      <td>spiritedPorpoise3</td>\n",
       "      <td>111065</td>\n",
       "      <td>Belum_menikah</td>\n",
       "      <td>Pria</td>\n",
       "      <td>Outsource</td>\n",
       "      <td>Software Engineer (Back End)</td>\n",
       "      <td>Freshgraduate_program</td>\n",
       "      <td>Sangat_bagus</td>\n",
       "      <td>Jakarta Timur</td>\n",
       "      <td>Employee_Referral</td>\n",
       "      <td>4</td>\n",
       "      <td>4.0</td>\n",
       "      <td>0.0</td>\n",
       "      <td>0.0</td>\n",
       "      <td>9.0</td>\n",
       "      <td>+6282232522xxx</td>\n",
       "      <td>spiritedPorpoise3135@yahoo.com</td>\n",
       "      <td>Magister</td>\n",
       "      <td>masih_bekerja</td>\n",
       "      <td>1972-07-01</td>\n",
       "      <td>2011-01-10</td>\n",
       "      <td>2016-02-15</td>\n",
       "      <td>NaT</td>\n",
       "      <td>0</td>\n",
       "      <td>1</td>\n",
       "      <td>0</td>\n",
       "      <td>5</td>\n",
       "      <td>2</td>\n",
       "    </tr>\n",
       "    <tr>\n",
       "      <th>1</th>\n",
       "      <td>jealousGelding2</td>\n",
       "      <td>106080</td>\n",
       "      <td>Belum_menikah</td>\n",
       "      <td>Pria</td>\n",
       "      <td>FullTime</td>\n",
       "      <td>Data Analyst</td>\n",
       "      <td>Freshgraduate_program</td>\n",
       "      <td>Sangat_kurang</td>\n",
       "      <td>Jakarta Utara</td>\n",
       "      <td>Website</td>\n",
       "      <td>4</td>\n",
       "      <td>4.0</td>\n",
       "      <td>4.0</td>\n",
       "      <td>0.0</td>\n",
       "      <td>3.0</td>\n",
       "      <td>+6281270745xxx</td>\n",
       "      <td>jealousGelding2239@yahoo.com</td>\n",
       "      <td>Sarjana</td>\n",
       "      <td>toxic_culture</td>\n",
       "      <td>1984-04-26</td>\n",
       "      <td>2014-01-06</td>\n",
       "      <td>2020-01-17</td>\n",
       "      <td>2018-06-16</td>\n",
       "      <td>1</td>\n",
       "      <td>1</td>\n",
       "      <td>0</td>\n",
       "      <td>1</td>\n",
       "      <td>1</td>\n",
       "    </tr>\n",
       "    <tr>\n",
       "      <th>2</th>\n",
       "      <td>pluckyMuesli3</td>\n",
       "      <td>106452</td>\n",
       "      <td>Menikah</td>\n",
       "      <td>Pria</td>\n",
       "      <td>FullTime</td>\n",
       "      <td>Software Engineer (Front End)</td>\n",
       "      <td>Freshgraduate_program</td>\n",
       "      <td>Bagus</td>\n",
       "      <td>Jakarta Timur</td>\n",
       "      <td>Indeed</td>\n",
       "      <td>4</td>\n",
       "      <td>3.0</td>\n",
       "      <td>0.0</td>\n",
       "      <td>0.0</td>\n",
       "      <td>11.0</td>\n",
       "      <td>+6281346215xxx</td>\n",
       "      <td>pluckyMuesli3961@icloud.com</td>\n",
       "      <td>Magister</td>\n",
       "      <td>jam_kerja</td>\n",
       "      <td>1974-01-07</td>\n",
       "      <td>2011-01-10</td>\n",
       "      <td>2016-01-10</td>\n",
       "      <td>2014-09-24</td>\n",
       "      <td>1</td>\n",
       "      <td>1</td>\n",
       "      <td>0</td>\n",
       "      <td>4</td>\n",
       "      <td>2</td>\n",
       "    </tr>\n",
       "  </tbody>\n",
       "</table>\n",
       "</div>"
      ],
      "text/plain": [
       "            Username  EnterpriseID StatusPernikahan JenisKelamin  \\\n",
       "0  spiritedPorpoise3        111065    Belum_menikah         Pria   \n",
       "1    jealousGelding2        106080    Belum_menikah         Pria   \n",
       "2      pluckyMuesli3        106452          Menikah         Pria   \n",
       "\n",
       "  StatusKepegawaian                      Pekerjaan           JenjangKarir  \\\n",
       "0         Outsource   Software Engineer (Back End)  Freshgraduate_program   \n",
       "1          FullTime                   Data Analyst  Freshgraduate_program   \n",
       "2          FullTime  Software Engineer (Front End)  Freshgraduate_program   \n",
       "\n",
       "  PerformancePegawai     AsalDaerah     HiringPlatform  SkorSurveyEngagement  \\\n",
       "0       Sangat_bagus  Jakarta Timur  Employee_Referral                     4   \n",
       "1      Sangat_kurang  Jakarta Utara            Website                     4   \n",
       "2              Bagus  Jakarta Timur             Indeed                     4   \n",
       "\n",
       "   SkorKepuasanPegawai  JumlahKeikutsertaanProjek  \\\n",
       "0                  4.0                        0.0   \n",
       "1                  4.0                        4.0   \n",
       "2                  3.0                        0.0   \n",
       "\n",
       "   JumlahKeterlambatanSebulanTerakhir  JumlahKetidakhadiran         NomorHP  \\\n",
       "0                                 0.0                   9.0  +6282232522xxx   \n",
       "1                                 0.0                   3.0  +6281270745xxx   \n",
       "2                                 0.0                  11.0  +6281346215xxx   \n",
       "\n",
       "                            Email TingkatPendidikan   AlasanResign  \\\n",
       "0  spiritedPorpoise3135@yahoo.com          Magister  masih_bekerja   \n",
       "1    jealousGelding2239@yahoo.com           Sarjana  toxic_culture   \n",
       "2     pluckyMuesli3961@icloud.com          Magister      jam_kerja   \n",
       "\n",
       "  TanggalLahir TanggalHiring TanggalPenilaianKaryawan TanggalResign  \\\n",
       "0   1972-07-01    2011-01-10               2016-02-15           NaT   \n",
       "1   1984-04-26    2014-01-06               2020-01-17    2018-06-16   \n",
       "2   1974-01-07    2011-01-10               2016-01-10    2014-09-24   \n",
       "\n",
       "   is_resign  is_Male  Career_level  Employee_Performance  Education_level  \n",
       "0          0        1             0                     5                2  \n",
       "1          1        1             0                     1                1  \n",
       "2          1        1             0                     4                2  "
      ]
     },
     "execution_count": 28,
     "metadata": {},
     "output_type": "execute_result"
    }
   ],
   "source": [
    "df_pre.head(3)"
   ]
  },
  {
   "cell_type": "code",
   "execution_count": 29,
   "metadata": {},
   "outputs": [],
   "source": [
    "Total_hiring = df_pre.groupby(df_pre['TanggalHiring'].dt.year)[['Username']].count().reset_index()\n",
    "Total_resign = df_pre.groupby(df_pre['TanggalResign'].dt.year)[['Username']].count().reset_index()\n",
    "Total_hiring.columns=['Tahun','Jumlah_hiring']\n",
    "Total_resign.columns=['Tahun','Jumlah_resign']"
   ]
  },
  {
   "cell_type": "code",
   "execution_count": 30,
   "metadata": {},
   "outputs": [
    {
     "data": {
      "text/html": [
       "<div>\n",
       "<style scoped>\n",
       "    .dataframe tbody tr th:only-of-type {\n",
       "        vertical-align: middle;\n",
       "    }\n",
       "\n",
       "    .dataframe tbody tr th {\n",
       "        vertical-align: top;\n",
       "    }\n",
       "\n",
       "    .dataframe thead th {\n",
       "        text-align: right;\n",
       "    }\n",
       "</style>\n",
       "<table border=\"1\" class=\"dataframe\">\n",
       "  <thead>\n",
       "    <tr style=\"text-align: right;\">\n",
       "      <th></th>\n",
       "      <th>Tahun</th>\n",
       "      <th>Jumlah_hiring</th>\n",
       "      <th>Jumlah_resign</th>\n",
       "    </tr>\n",
       "  </thead>\n",
       "  <tbody>\n",
       "    <tr>\n",
       "      <th>0</th>\n",
       "      <td>2006.0</td>\n",
       "      <td>1.0</td>\n",
       "      <td>0.0</td>\n",
       "    </tr>\n",
       "    <tr>\n",
       "      <th>1</th>\n",
       "      <td>2007.0</td>\n",
       "      <td>2.0</td>\n",
       "      <td>0.0</td>\n",
       "    </tr>\n",
       "    <tr>\n",
       "      <th>2</th>\n",
       "      <td>2008.0</td>\n",
       "      <td>2.0</td>\n",
       "      <td>0.0</td>\n",
       "    </tr>\n",
       "    <tr>\n",
       "      <th>3</th>\n",
       "      <td>2009.0</td>\n",
       "      <td>7.0</td>\n",
       "      <td>0.0</td>\n",
       "    </tr>\n",
       "    <tr>\n",
       "      <th>4</th>\n",
       "      <td>2010.0</td>\n",
       "      <td>8.0</td>\n",
       "      <td>0.0</td>\n",
       "    </tr>\n",
       "    <tr>\n",
       "      <th>5</th>\n",
       "      <td>2011.0</td>\n",
       "      <td>74.0</td>\n",
       "      <td>0.0</td>\n",
       "    </tr>\n",
       "    <tr>\n",
       "      <th>6</th>\n",
       "      <td>2012.0</td>\n",
       "      <td>38.0</td>\n",
       "      <td>0.0</td>\n",
       "    </tr>\n",
       "    <tr>\n",
       "      <th>7</th>\n",
       "      <td>2013.0</td>\n",
       "      <td>43.0</td>\n",
       "      <td>5.0</td>\n",
       "    </tr>\n",
       "    <tr>\n",
       "      <th>8</th>\n",
       "      <td>2014.0</td>\n",
       "      <td>55.0</td>\n",
       "      <td>12.0</td>\n",
       "    </tr>\n",
       "    <tr>\n",
       "      <th>9</th>\n",
       "      <td>2015.0</td>\n",
       "      <td>26.0</td>\n",
       "      <td>8.0</td>\n",
       "    </tr>\n",
       "    <tr>\n",
       "      <th>10</th>\n",
       "      <td>2016.0</td>\n",
       "      <td>13.0</td>\n",
       "      <td>8.0</td>\n",
       "    </tr>\n",
       "    <tr>\n",
       "      <th>11</th>\n",
       "      <td>2017.0</td>\n",
       "      <td>5.0</td>\n",
       "      <td>19.0</td>\n",
       "    </tr>\n",
       "    <tr>\n",
       "      <th>12</th>\n",
       "      <td>2018.0</td>\n",
       "      <td>1.0</td>\n",
       "      <td>24.0</td>\n",
       "    </tr>\n",
       "    <tr>\n",
       "      <th>13</th>\n",
       "      <td>2019.0</td>\n",
       "      <td>0.0</td>\n",
       "      <td>4.0</td>\n",
       "    </tr>\n",
       "    <tr>\n",
       "      <th>14</th>\n",
       "      <td>2020.0</td>\n",
       "      <td>0.0</td>\n",
       "      <td>6.0</td>\n",
       "    </tr>\n",
       "  </tbody>\n",
       "</table>\n",
       "</div>"
      ],
      "text/plain": [
       "     Tahun  Jumlah_hiring  Jumlah_resign\n",
       "0   2006.0            1.0            0.0\n",
       "1   2007.0            2.0            0.0\n",
       "2   2008.0            2.0            0.0\n",
       "3   2009.0            7.0            0.0\n",
       "4   2010.0            8.0            0.0\n",
       "5   2011.0           74.0            0.0\n",
       "6   2012.0           38.0            0.0\n",
       "7   2013.0           43.0            5.0\n",
       "8   2014.0           55.0           12.0\n",
       "9   2015.0           26.0            8.0\n",
       "10  2016.0           13.0            8.0\n",
       "11  2017.0            5.0           19.0\n",
       "12  2018.0            1.0           24.0\n",
       "13  2019.0            0.0            4.0\n",
       "14  2020.0            0.0            6.0"
      ]
     },
     "execution_count": 30,
     "metadata": {},
     "output_type": "execute_result"
    }
   ],
   "source": [
    "employee_activities = Total_hiring.merge(Total_resign, how='outer')\n",
    "employee_activities.fillna(0,inplace=True)\n",
    "employee_activities"
   ]
  },
  {
   "cell_type": "code",
   "execution_count": 31,
   "metadata": {},
   "outputs": [
    {
     "data": {
      "text/plain": [
       "Text(0.5, 1.0, 'Anual Report on Employee Number')"
      ]
     },
     "execution_count": 31,
     "metadata": {},
     "output_type": "execute_result"
    },
    {
     "data": {
      "image/png": "[encoded data removed]",
      "text/plain": [
       "<Figure size 1200x600 with 1 Axes>"
      ]
     },
     "metadata": {},
     "output_type": "display_data"
    }
   ],
   "source": [
    "sns.set_theme(style='darkgrid')\n",
    "plt.figure(figsize=(12,6))\n",
    "sns.lineplot(data=employee_activities, y='Jumlah_hiring', x='Tahun', label ='Jumlah Hiring')\n",
    "sns.lineplot(data=employee_activities, y='Jumlah_resign', x='Tahun',  label ='Jumlah Resign')\n",
    "plt.title('Anual Report on Employee Number', fontsize=22)"
   ]
  },
  {
   "cell_type": "code",
   "execution_count": 32,
   "metadata": {},
   "outputs": [],
   "source": [
    "import plotly.graph_objects as go"
   ]
  },
  {
   "cell_type": "code",
   "execution_count": 33,
   "metadata": {},
   "outputs": [
    {
     "data": {
      "application/vnd.plotly.v1+json": {
       "config": {
        "plotlyServerURL": "https://plot.ly"
       },
       "data": [
        {
         "connector": {
          "line": {
           "color": "#b20710"
          }
         },
         "decreasing": {
          "marker": {
           "color": "orange"
          }
         },
         "increasing": {
          "marker": {
           "color": "#b20710"
          }
         },
         "name": "Movie",
         "orientation": "v",
         "text": [
          1,
          2,
          2,
          7,
          8,
          74,
          38,
          43,
          55,
          26,
          13,
          5,
          1,
          0,
          0
         ],
         "textposition": "auto",
         "type": "waterfall",
         "x": [
          2006,
          2007,
          2008,
          2009,
          2010,
          2011,
          2012,
          2013,
          2014,
          2015,
          2016,
          2017,
          2018,
          2019,
          2020
         ],
         "y": [
          1,
          1,
          0,
          5,
          1,
          66,
          -36,
          5,
          12,
          -29,
          -13,
          -8,
          -4,
          -1,
          0
         ]
        }
       ],
       "layout": {
        "template": {
         "data": {
          "bar": [
           {
            "error_x": {
             "color": "#2a3f5f"
            },
            "error_y": {
             "color": "#2a3f5f"
            },
            "marker": {
             "line": {
              "color": "#E5ECF6",
              "width": 0.5
             },
             "pattern": {
              "fillmode": "overlay",
              "size": 10,
              "solidity": 0.2
             }
            },
            "type": "bar"
           }
          ],
          "barpolar": [
           {
            "marker": {
             "line": {
              "color": "#E5ECF6",
              "width": 0.5
             },
             "pattern": {
              "fillmode": "overlay",
              "size": 10,
              "solidity": 0.2
             }
            },
            "type": "barpolar"
           }
          ],
          "carpet": [
           {
            "aaxis": {
             "endlinecolor": "#2a3f5f",
             "gridcolor": "white",
             "linecolor": "white",
             "minorgridcolor": "white",
             "startlinecolor": "#2a3f5f"
            },
            "baxis": {
             "endlinecolor": "#2a3f5f",
             "gridcolor": "white",
             "linecolor": "white",
             "minorgridcolor": "white",
             "startlinecolor": "#2a3f5f"
            },
            "type": "carpet"
           }
          ],
          "choropleth": [
           {
            "colorbar": {
             "outlinewidth": 0,
             "ticks": ""
            },
            "type": "choropleth"
           }
          ],
          "contour": [
           {
            "colorbar": {
             "outlinewidth": 0,
             "ticks": ""
            },
            "colorscale": [
             [
              0,
              "#0d0887"
             ],
             [
              0.1111111111111111,
              "#46039f"
             ],
             [
              0.2222222222222222,
              "#7201a8"
             ],
             [
              0.3333333333333333,
              "#9c179e"
             ],
             [
              0.4444444444444444,
              "#bd3786"
             ],
             [
              0.5555555555555556,
              "#d8576b"
             ],
             [
              0.6666666666666666,
              "#ed7953"
             ],
             [
              0.7777777777777778,
              "#fb9f3a"
             ],
             [
              0.8888888888888888,
              "#fdca26"
             ],
             [
              1,
              "#f0f921"
             ]
            ],
            "type": "contour"
           }
          ],
          "contourcarpet": [
           {
            "colorbar": {
             "outlinewidth": 0,
             "ticks": ""
            },
            "type": "contourcarpet"
           }
          ],
          "heatmap": [
           {
            "colorbar": {
             "outlinewidth": 0,
             "ticks": ""
            },
            "colorscale": [
             [
              0,
              "#0d0887"
             ],
             [
              0.1111111111111111,
              "#46039f"
             ],
             [
              0.2222222222222222,
              "#7201a8"
             ],
             [
              0.3333333333333333,
              "#9c179e"
             ],
             [
              0.4444444444444444,
              "#bd3786"
             ],
             [
              0.5555555555555556,
              "#d8576b"
             ],
             [
              0.6666666666666666,
              "#ed7953"
             ],
             [
              0.7777777777777778,
              "#fb9f3a"
             ],
             [
              0.8888888888888888,
              "#fdca26"
             ],
             [
              1,
              "#f0f921"
             ]
            ],
            "type": "heatmap"
           }
          ],
          "heatmapgl": [
           {
            "colorbar": {
             "outlinewidth": 0,
             "ticks": ""
            },
            "colorscale": [
             [
              0,
              "#0d0887"
             ],
             [
              0.1111111111111111,
              "#46039f"
             ],
             [
              0.2222222222222222,
              "#7201a8"
             ],
             [
              0.3333333333333333,
              "#9c179e"
             ],
             [
              0.4444444444444444,
              "#bd3786"
             ],
             [
              0.5555555555555556,
              "#d8576b"
             ],
             [
              0.6666666666666666,
              "#ed7953"
             ],
             [
              0.7777777777777778,
              "#fb9f3a"
             ],
             [
              0.8888888888888888,
              "#fdca26"
             ],
             [
              1,
              "#f0f921"
             ]
            ],
            "type": "heatmapgl"
           }
          ],
          "histogram": [
           {
            "marker": {
             "pattern": {
              "fillmode": "overlay",
              "size": 10,
              "solidity": 0.2
             }
            },
            "type": "histogram"
           }
          ],
          "histogram2d": [
           {
            "colorbar": {
             "outlinewidth": 0,
             "ticks": ""
            },
            "colorscale": [
             [
              0,
              "#0d0887"
             ],
             [
              0.1111111111111111,
              "#46039f"
             ],
             [
              0.2222222222222222,
              "#7201a8"
             ],
             [
              0.3333333333333333,
              "#9c179e"
             ],
             [
              0.4444444444444444,
              "#bd3786"
             ],
             [
              0.5555555555555556,
              "#d8576b"
             ],
             [
              0.6666666666666666,
              "#ed7953"
             ],
             [
              0.7777777777777778,
              "#fb9f3a"
             ],
             [
              0.8888888888888888,
              "#fdca26"
             ],
             [
              1,
              "#f0f921"
             ]
            ],
            "type": "histogram2d"
           }
          ],
          "histogram2dcontour": [
           {
            "colorbar": {
             "outlinewidth": 0,
             "ticks": ""
            },
            "colorscale": [
             [
              0,
              "#0d0887"
             ],
             [
              0.1111111111111111,
              "#46039f"
             ],
             [
              0.2222222222222222,
              "#7201a8"
             ],
             [
              0.3333333333333333,
              "#9c179e"
             ],
             [
              0.4444444444444444,
              "#bd3786"
             ],
             [
              0.5555555555555556,
              "#d8576b"
             ],
             [
              0.6666666666666666,
              "#ed7953"
             ],
             [
              0.7777777777777778,
              "#fb9f3a"
             ],
             [
              0.8888888888888888,
              "#fdca26"
             ],
             [
              1,
              "#f0f921"
             ]
            ],
            "type": "histogram2dcontour"
           }
          ],
          "mesh3d": [
           {
            "colorbar": {
             "outlinewidth": 0,
             "ticks": ""
            },
            "type": "mesh3d"
           }
          ],
          "parcoords": [
           {
            "line": {
             "colorbar": {
              "outlinewidth": 0,
              "ticks": ""
             }
            },
            "type": "parcoords"
           }
          ],
          "pie": [
           {
            "automargin": true,
            "type": "pie"
           }
          ],
          "scatter": [
           {
            "fillpattern": {
             "fillmode": "overlay",
             "size": 10,
             "solidity": 0.2
            },
            "type": "scatter"
           }
          ],
          "scatter3d": [
           {
            "line": {
             "colorbar": {
              "outlinewidth": 0,
              "ticks": ""
             }
            },
            "marker": {
             "colorbar": {
              "outlinewidth": 0,
              "ticks": ""
             }
            },
            "type": "scatter3d"
           }
          ],
          "scattercarpet": [
           {
            "marker": {
             "colorbar": {
              "outlinewidth": 0,
              "ticks": ""
             }
            },
            "type": "scattercarpet"
           }
          ],
          "scattergeo": [
           {
            "marker": {
             "colorbar": {
              "outlinewidth": 0,
              "ticks": ""
             }
            },
            "type": "scattergeo"
           }
          ],
          "scattergl": [
           {
            "marker": {
             "colorbar": {
              "outlinewidth": 0,
              "ticks": ""
             }
            },
            "type": "scattergl"
           }
          ],
          "scattermapbox": [
           {
            "marker": {
             "colorbar": {
              "outlinewidth": 0,
              "ticks": ""
             }
            },
            "type": "scattermapbox"
           }
          ],
          "scatterpolar": [
           {
            "marker": {
             "colorbar": {
              "outlinewidth": 0,
              "ticks": ""
             }
            },
            "type": "scatterpolar"
           }
          ],
          "scatterpolargl": [
           {
            "marker": {
             "colorbar": {
              "outlinewidth": 0,
              "ticks": ""
             }
            },
            "type": "scatterpolargl"
           }
          ],
          "scatterternary": [
           {
            "marker": {
             "colorbar": {
              "outlinewidth": 0,
              "ticks": ""
             }
            },
            "type": "scatterternary"
           }
          ],
          "surface": [
           {
            "colorbar": {
             "outlinewidth": 0,
             "ticks": ""
            },
            "colorscale": [
             [
              0,
              "#0d0887"
             ],
             [
              0.1111111111111111,
              "#46039f"
             ],
             [
              0.2222222222222222,
              "#7201a8"
             ],
             [
              0.3333333333333333,
              "#9c179e"
             ],
             [
              0.4444444444444444,
              "#bd3786"
             ],
             [
              0.5555555555555556,
              "#d8576b"
             ],
             [
              0.6666666666666666,
              "#ed7953"
             ],
             [
              0.7777777777777778,
              "#fb9f3a"
             ],
             [
              0.8888888888888888,
              "#fdca26"
             ],
             [
              1,
              "#f0f921"
             ]
            ],
            "type": "surface"
           }
          ],
          "table": [
           {
            "cells": {
             "fill": {
              "color": "#EBF0F8"
             },
             "line": {
              "color": "white"
             }
            },
            "header": {
             "fill": {
              "color": "#C8D4E3"
             },
             "line": {
              "color": "white"
             }
            },
            "type": "table"
           }
          ]
         },
         "layout": {
          "annotationdefaults": {
           "arrowcolor": "#2a3f5f",
           "arrowhead": 0,
           "arrowwidth": 1
          },
          "autotypenumbers": "strict",
          "coloraxis": {
           "colorbar": {
            "outlinewidth": 0,
            "ticks": ""
           }
          },
          "colorscale": {
           "diverging": [
            [
             0,
             "#8e0152"
            ],
            [
             0.1,
             "#c51b7d"
            ],
            [
             0.2,
             "#de77ae"
            ],
            [
             0.3,
             "#f1b6da"
            ],
            [
             0.4,
             "#fde0ef"
            ],
            [
             0.5,
             "#f7f7f7"
            ],
            [
             0.6,
             "#e6f5d0"
            ],
            [
             0.7,
             "#b8e186"
            ],
            [
             0.8,
             "#7fbc41"
            ],
            [
             0.9,
             "#4d9221"
            ],
            [
             1,
             "#276419"
            ]
           ],
           "sequential": [
            [
             0,
             "#0d0887"
            ],
            [
             0.1111111111111111,
             "#46039f"
            ],
            [
             0.2222222222222222,
             "#7201a8"
            ],
            [
             0.3333333333333333,
             "#9c179e"
            ],
            [
             0.4444444444444444,
             "#bd3786"
            ],
            [
             0.5555555555555556,
             "#d8576b"
            ],
            [
             0.6666666666666666,
             "#ed7953"
            ],
            [
             0.7777777777777778,
             "#fb9f3a"
            ],
            [
             0.8888888888888888,
             "#fdca26"
            ],
            [
             1,
             "#f0f921"
            ]
           ],
           "sequentialminus": [
            [
             0,
             "#0d0887"
            ],
            [
             0.1111111111111111,
             "#46039f"
            ],
            [
             0.2222222222222222,
             "#7201a8"
            ],
            [
             0.3333333333333333,
             "#9c179e"
            ],
            [
             0.4444444444444444,
             "#bd3786"
            ],
            [
             0.5555555555555556,
             "#d8576b"
            ],
            [
             0.6666666666666666,
             "#ed7953"
            ],
            [
             0.7777777777777778,
             "#fb9f3a"
            ],
            [
             0.8888888888888888,
             "#fdca26"
            ],
            [
             1,
             "#f0f921"
            ]
           ]
          },
          "colorway": [
           "#636efa",
           "#EF553B",
           "#00cc96",
           "#ab63fa",
           "#FFA15A",
           "#19d3f3",
           "#FF6692",
           "#B6E880",
           "#FF97FF",
           "#FECB52"
          ],
          "font": {
           "color": "#2a3f5f"
          },
          "geo": {
           "bgcolor": "white",
           "lakecolor": "white",
           "landcolor": "#E5ECF6",
           "showlakes": true,
           "showland": true,
           "subunitcolor": "white"
          },
          "hoverlabel": {
           "align": "left"
          },
          "hovermode": "closest",
          "mapbox": {
           "style": "light"
          },
          "paper_bgcolor": "white",
          "plot_bgcolor": "#E5ECF6",
          "polar": {
           "angularaxis": {
            "gridcolor": "white",
            "linecolor": "white",
            "ticks": ""
           },
           "bgcolor": "#E5ECF6",
           "radialaxis": {
            "gridcolor": "white",
            "linecolor": "white",
            "ticks": ""
           }
          },
          "scene": {
           "xaxis": {
            "backgroundcolor": "#E5ECF6",
            "gridcolor": "white",
            "gridwidth": 2,
            "linecolor": "white",
            "showbackground": true,
            "ticks": "",
            "zerolinecolor": "white"
           },
           "yaxis": {
            "backgroundcolor": "#E5ECF6",
            "gridcolor": "white",
            "gridwidth": 2,
            "linecolor": "white",
            "showbackground": true,
            "ticks": "",
            "zerolinecolor": "white"
           },
           "zaxis": {
            "backgroundcolor": "#E5ECF6",
            "gridcolor": "white",
            "gridwidth": 2,
            "linecolor": "white",
            "showbackground": true,
            "ticks": "",
            "zerolinecolor": "white"
           }
          },
          "shapedefaults": {
           "line": {
            "color": "#2a3f5f"
           }
          },
          "ternary": {
           "aaxis": {
            "gridcolor": "white",
            "linecolor": "white",
            "ticks": ""
           },
           "baxis": {
            "gridcolor": "white",
            "linecolor": "white",
            "ticks": ""
           },
           "bgcolor": "#E5ECF6",
           "caxis": {
            "gridcolor": "white",
            "linecolor": "white",
            "ticks": ""
           }
          },
          "title": {
           "x": 0.05
          },
          "xaxis": {
           "automargin": true,
           "gridcolor": "white",
           "linecolor": "white",
           "ticks": "",
           "title": {
            "standoff": 15
           },
           "zerolinecolor": "white",
           "zerolinewidth": 2
          },
          "yaxis": {
           "automargin": true,
           "gridcolor": "white",
           "linecolor": "white",
           "ticks": "",
           "title": {
            "standoff": 15
           },
           "zerolinecolor": "white",
           "zerolinewidth": 2
          }
         }
        }
       }
      }
     },
     "metadata": {},
     "output_type": "display_data"
    }
   ],
   "source": [
    "hiring = [ employee_activities['Jumlah_hiring'][i] - employee_activities['Jumlah_hiring'][i-1] for i in range(1,len(employee_activities['Jumlah_hiring'])) ]\n",
    "hiring = [1] + hiring\n",
    "\n",
    "go.Figure(go.Waterfall(\n",
    "    name = \"Movie\", orientation = \"v\", \n",
    "    x =employee_activities['Tahun'] ,\n",
    "    textposition = \"auto\",\n",
    "    text = employee_activities['Jumlah_hiring'],\n",
    "    y = hiring,\n",
    "    connector = {\"line\":{\"color\":\"#b20710\"}},\n",
    "    increasing = {\"marker\":{\"color\":\"#b20710\"}},\n",
    "    decreasing = {\"marker\":{\"color\":\"orange\"}},\n",
    "))\n"
   ]
  },
  {
   "cell_type": "code",
   "execution_count": 34,
   "metadata": {},
   "outputs": [
    {
     "data": {
      "application/vnd.plotly.v1+json": {
       "config": {
        "plotlyServerURL": "https://plot.ly"
       },
       "data": [
        {
         "connector": {
          "line": {
           "color": "#b20710"
          }
         },
         "decreasing": {
          "marker": {
           "color": "orange"
          }
         },
         "increasing": {
          "marker": {
           "color": "#b20710"
          }
         },
         "name": "Movie",
         "orientation": "v",
         "text": [
          0,
          0,
          0,
          0,
          0,
          0,
          0,
          5,
          12,
          8,
          8,
          19,
          24,
          4,
          6
         ],
         "textposition": "auto",
         "type": "waterfall",
         "x": [
          2006,
          2007,
          2008,
          2009,
          2010,
          2011,
          2012,
          2013,
          2014,
          2015,
          2016,
          2017,
          2018,
          2019,
          2020
         ],
         "y": [
          1,
          0,
          0,
          0,
          0,
          0,
          0,
          5,
          7,
          -4,
          0,
          11,
          5,
          -20,
          2
         ]
        }
       ],
       "layout": {
        "template": {
         "data": {
          "bar": [
           {
            "error_x": {
             "color": "#2a3f5f"
            },
            "error_y": {
             "color": "#2a3f5f"
            },
            "marker": {
             "line": {
              "color": "#E5ECF6",
              "width": 0.5
             },
             "pattern": {
              "fillmode": "overlay",
              "size": 10,
              "solidity": 0.2
             }
            },
            "type": "bar"
           }
          ],
          "barpolar": [
           {
            "marker": {
             "line": {
              "color": "#E5ECF6",
              "width": 0.5
             },
             "pattern": {
              "fillmode": "overlay",
              "size": 10,
              "solidity": 0.2
             }
            },
            "type": "barpolar"
           }
          ],
          "carpet": [
           {
            "aaxis": {
             "endlinecolor": "#2a3f5f",
             "gridcolor": "white",
             "linecolor": "white",
             "minorgridcolor": "white",
             "startlinecolor": "#2a3f5f"
            },
            "baxis": {
             "endlinecolor": "#2a3f5f",
             "gridcolor": "white",
             "linecolor": "white",
             "minorgridcolor": "white",
             "startlinecolor": "#2a3f5f"
            },
            "type": "carpet"
           }
          ],
          "choropleth": [
           {
            "colorbar": {
             "outlinewidth": 0,
             "ticks": ""
            },
            "type": "choropleth"
           }
          ],
          "contour": [
           {
            "colorbar": {
             "outlinewidth": 0,
             "ticks": ""
            },
            "colorscale": [
             [
              0,
              "#0d0887"
             ],
             [
              0.1111111111111111,
              "#46039f"
             ],
             [
              0.2222222222222222,
              "#7201a8"
             ],
             [
              0.3333333333333333,
              "#9c179e"
             ],
             [
              0.4444444444444444,
              "#bd3786"
             ],
             [
              0.5555555555555556,
              "#d8576b"
             ],
             [
              0.6666666666666666,
              "#ed7953"
             ],
             [
              0.7777777777777778,
              "#fb9f3a"
             ],
             [
              0.8888888888888888,
              "#fdca26"
             ],
             [
              1,
              "#f0f921"
             ]
            ],
            "type": "contour"
           }
          ],
          "contourcarpet": [
           {
            "colorbar": {
             "outlinewidth": 0,
             "ticks": ""
            },
            "type": "contourcarpet"
           }
          ],
          "heatmap": [
           {
            "colorbar": {
             "outlinewidth": 0,
             "ticks": ""
            },
            "colorscale": [
             [
              0,
              "#0d0887"
             ],
             [
              0.1111111111111111,
              "#46039f"
             ],
             [
              0.2222222222222222,
              "#7201a8"
             ],
             [
              0.3333333333333333,
              "#9c179e"
             ],
             [
              0.4444444444444444,
              "#bd3786"
             ],
             [
              0.5555555555555556,
              "#d8576b"
             ],
             [
              0.6666666666666666,
              "#ed7953"
             ],
             [
              0.7777777777777778,
              "#fb9f3a"
             ],
             [
              0.8888888888888888,
              "#fdca26"
             ],
             [
              1,
              "#f0f921"
             ]
            ],
            "type": "heatmap"
           }
          ],
          "heatmapgl": [
           {
            "colorbar": {
             "outlinewidth": 0,
             "ticks": ""
            },
            "colorscale": [
             [
              0,
              "#0d0887"
             ],
             [
              0.1111111111111111,
              "#46039f"
             ],
             [
              0.2222222222222222,
              "#7201a8"
             ],
             [
              0.3333333333333333,
              "#9c179e"
             ],
             [
              0.4444444444444444,
              "#bd3786"
             ],
             [
              0.5555555555555556,
              "#d8576b"
             ],
             [
              0.6666666666666666,
              "#ed7953"
             ],
             [
              0.7777777777777778,
              "#fb9f3a"
             ],
             [
              0.8888888888888888,
              "#fdca26"
             ],
             [
              1,
              "#f0f921"
             ]
            ],
            "type": "heatmapgl"
           }
          ],
          "histogram": [
           {
            "marker": {
             "pattern": {
              "fillmode": "overlay",
              "size": 10,
              "solidity": 0.2
             }
            },
            "type": "histogram"
           }
          ],
          "histogram2d": [
           {
            "colorbar": {
             "outlinewidth": 0,
             "ticks": ""
            },
            "colorscale": [
             [
              0,
              "#0d0887"
             ],
             [
              0.1111111111111111,
              "#46039f"
             ],
             [
              0.2222222222222222,
              "#7201a8"
             ],
             [
              0.3333333333333333,
              "#9c179e"
             ],
             [
              0.4444444444444444,
              "#bd3786"
             ],
             [
              0.5555555555555556,
              "#d8576b"
             ],
             [
              0.6666666666666666,
              "#ed7953"
             ],
             [
              0.7777777777777778,
              "#fb9f3a"
             ],
             [
              0.8888888888888888,
              "#fdca26"
             ],
             [
              1,
              "#f0f921"
             ]
            ],
            "type": "histogram2d"
           }
          ],
          "histogram2dcontour": [
           {
            "colorbar": {
             "outlinewidth": 0,
             "ticks": ""
            },
            "colorscale": [
             [
              0,
              "#0d0887"
             ],
             [
              0.1111111111111111,
              "#46039f"
             ],
             [
              0.2222222222222222,
              "#7201a8"
             ],
             [
              0.3333333333333333,
              "#9c179e"
             ],
             [
              0.4444444444444444,
              "#bd3786"
             ],
             [
              0.5555555555555556,
              "#d8576b"
             ],
             [
              0.6666666666666666,
              "#ed7953"
             ],
             [
              0.7777777777777778,
              "#fb9f3a"
             ],
             [
              0.8888888888888888,
              "#fdca26"
             ],
             [
              1,
              "#f0f921"
             ]
            ],
            "type": "histogram2dcontour"
           }
          ],
          "mesh3d": [
           {
            "colorbar": {
             "outlinewidth": 0,
             "ticks": ""
            },
            "type": "mesh3d"
           }
          ],
          "parcoords": [
           {
            "line": {
             "colorbar": {
              "outlinewidth": 0,
              "ticks": ""
             }
            },
            "type": "parcoords"
           }
          ],
          "pie": [
           {
            "automargin": true,
            "type": "pie"
           }
          ],
          "scatter": [
           {
            "fillpattern": {
             "fillmode": "overlay",
             "size": 10,
             "solidity": 0.2
            },
            "type": "scatter"
           }
          ],
          "scatter3d": [
           {
            "line": {
             "colorbar": {
              "outlinewidth": 0,
              "ticks": ""
             }
            },
            "marker": {
             "colorbar": {
              "outlinewidth": 0,
              "ticks": ""
             }
            },
            "type": "scatter3d"
           }
          ],
          "scattercarpet": [
           {
            "marker": {
             "colorbar": {
              "outlinewidth": 0,
              "ticks": ""
             }
            },
            "type": "scattercarpet"
           }
          ],
          "scattergeo": [
           {
            "marker": {
             "colorbar": {
              "outlinewidth": 0,
              "ticks": ""
             }
            },
            "type": "scattergeo"
           }
          ],
          "scattergl": [
           {
            "marker": {
             "colorbar": {
              "outlinewidth": 0,
              "ticks": ""
             }
            },
            "type": "scattergl"
           }
          ],
          "scattermapbox": [
           {
            "marker": {
             "colorbar": {
              "outlinewidth": 0,
              "ticks": ""
             }
            },
            "type": "scattermapbox"
           }
          ],
          "scatterpolar": [
           {
            "marker": {
             "colorbar": {
              "outlinewidth": 0,
              "ticks": ""
             }
            },
            "type": "scatterpolar"
           }
          ],
          "scatterpolargl": [
           {
            "marker": {
             "colorbar": {
              "outlinewidth": 0,
              "ticks": ""
             }
            },
            "type": "scatterpolargl"
           }
          ],
          "scatterternary": [
           {
            "marker": {
             "colorbar": {
              "outlinewidth": 0,
              "ticks": ""
             }
            },
            "type": "scatterternary"
           }
          ],
          "surface": [
           {
            "colorbar": {
             "outlinewidth": 0,
             "ticks": ""
            },
            "colorscale": [
             [
              0,
              "#0d0887"
             ],
             [
              0.1111111111111111,
              "#46039f"
             ],
             [
              0.2222222222222222,
              "#7201a8"
             ],
             [
              0.3333333333333333,
              "#9c179e"
             ],
             [
              0.4444444444444444,
              "#bd3786"
             ],
             [
              0.5555555555555556,
              "#d8576b"
             ],
             [
              0.6666666666666666,
              "#ed7953"
             ],
             [
              0.7777777777777778,
              "#fb9f3a"
             ],
             [
              0.8888888888888888,
              "#fdca26"
             ],
             [
              1,
              "#f0f921"
             ]
            ],
            "type": "surface"
           }
          ],
          "table": [
           {
            "cells": {
             "fill": {
              "color": "#EBF0F8"
             },
             "line": {
              "color": "white"
             }
            },
            "header": {
             "fill": {
              "color": "#C8D4E3"
             },
             "line": {
              "color": "white"
             }
            },
            "type": "table"
           }
          ]
         },
         "layout": {
          "annotationdefaults": {
           "arrowcolor": "#2a3f5f",
           "arrowhead": 0,
           "arrowwidth": 1
          },
          "autotypenumbers": "strict",
          "coloraxis": {
           "colorbar": {
            "outlinewidth": 0,
            "ticks": ""
           }
          },
          "colorscale": {
           "diverging": [
            [
             0,
             "#8e0152"
            ],
            [
             0.1,
             "#c51b7d"
            ],
            [
             0.2,
             "#de77ae"
            ],
            [
             0.3,
             "#f1b6da"
            ],
            [
             0.4,
             "#fde0ef"
            ],
            [
             0.5,
             "#f7f7f7"
            ],
            [
             0.6,
             "#e6f5d0"
            ],
            [
             0.7,
             "#b8e186"
            ],
            [
             0.8,
             "#7fbc41"
            ],
            [
             0.9,
             "#4d9221"
            ],
            [
             1,
             "#276419"
            ]
           ],
           "sequential": [
            [
             0,
             "#0d0887"
            ],
            [
             0.1111111111111111,
             "#46039f"
            ],
            [
             0.2222222222222222,
             "#7201a8"
            ],
            [
             0.3333333333333333,
             "#9c179e"
            ],
            [
             0.4444444444444444,
             "#bd3786"
            ],
            [
             0.5555555555555556,
             "#d8576b"
            ],
            [
             0.6666666666666666,
             "#ed7953"
            ],
            [
             0.7777777777777778,
             "#fb9f3a"
            ],
            [
             0.8888888888888888,
             "#fdca26"
            ],
            [
             1,
             "#f0f921"
            ]
           ],
           "sequentialminus": [
            [
             0,
             "#0d0887"
            ],
            [
             0.1111111111111111,
             "#46039f"
            ],
            [
             0.2222222222222222,
             "#7201a8"
            ],
            [
             0.3333333333333333,
             "#9c179e"
            ],
            [
             0.4444444444444444,
             "#bd3786"
            ],
            [
             0.5555555555555556,
             "#d8576b"
            ],
            [
             0.6666666666666666,
             "#ed7953"
            ],
            [
             0.7777777777777778,
             "#fb9f3a"
            ],
            [
             0.8888888888888888,
             "#fdca26"
            ],
            [
             1,
             "#f0f921"
            ]
           ]
          },
          "colorway": [
           "#636efa",
           "#EF553B",
           "#00cc96",
           "#ab63fa",
           "#FFA15A",
           "#19d3f3",
           "#FF6692",
           "#B6E880",
           "#FF97FF",
           "#FECB52"
          ],
          "font": {
           "color": "#2a3f5f"
          },
          "geo": {
           "bgcolor": "white",
           "lakecolor": "white",
           "landcolor": "#E5ECF6",
           "showlakes": true,
           "showland": true,
           "subunitcolor": "white"
          },
          "hoverlabel": {
           "align": "left"
          },
          "hovermode": "closest",
          "mapbox": {
           "style": "light"
          },
          "paper_bgcolor": "white",
          "plot_bgcolor": "#E5ECF6",
          "polar": {
           "angularaxis": {
            "gridcolor": "white",
            "linecolor": "white",
            "ticks": ""
           },
           "bgcolor": "#E5ECF6",
           "radialaxis": {
            "gridcolor": "white",
            "linecolor": "white",
            "ticks": ""
           }
          },
          "scene": {
           "xaxis": {
            "backgroundcolor": "#E5ECF6",
            "gridcolor": "white",
            "gridwidth": 2,
            "linecolor": "white",
            "showbackground": true,
            "ticks": "",
            "zerolinecolor": "white"
           },
           "yaxis": {
            "backgroundcolor": "#E5ECF6",
            "gridcolor": "white",
            "gridwidth": 2,
            "linecolor": "white",
            "showbackground": true,
            "ticks": "",
            "zerolinecolor": "white"
           },
           "zaxis": {
            "backgroundcolor": "#E5ECF6",
            "gridcolor": "white",
            "gridwidth": 2,
            "linecolor": "white",
            "showbackground": true,
            "ticks": "",
            "zerolinecolor": "white"
           }
          },
          "shapedefaults": {
           "line": {
            "color": "#2a3f5f"
           }
          },
          "ternary": {
           "aaxis": {
            "gridcolor": "white",
            "linecolor": "white",
            "ticks": ""
           },
           "baxis": {
            "gridcolor": "white",
            "linecolor": "white",
            "ticks": ""
           },
           "bgcolor": "#E5ECF6",
           "caxis": {
            "gridcolor": "white",
            "linecolor": "white",
            "ticks": ""
           }
          },
          "title": {
           "x": 0.05
          },
          "xaxis": {
           "automargin": true,
           "gridcolor": "white",
           "linecolor": "white",
           "ticks": "",
           "title": {
            "standoff": 15
           },
           "zerolinecolor": "white",
           "zerolinewidth": 2
          },
          "yaxis": {
           "automargin": true,
           "gridcolor": "white",
           "linecolor": "white",
           "ticks": "",
           "title": {
            "standoff": 15
           },
           "zerolinecolor": "white",
           "zerolinewidth": 2
          }
         }
        }
       }
      }
     },
     "metadata": {},
     "output_type": "display_data"
    }
   ],
   "source": [
    "\n",
    "resign = [ employee_activities['Jumlah_resign'][i] - employee_activities['Jumlah_resign'][i-1] for i in range(1,len(employee_activities['Jumlah_resign'])) ]\n",
    "resign = [1] + resign\n",
    "\n",
    "go.Figure(go.Waterfall(\n",
    "    name = \"Movie\", orientation = \"v\", \n",
    "    x =employee_activities['Tahun'] ,\n",
    "    textposition = \"auto\",\n",
    "    text = employee_activities['Jumlah_resign'],\n",
    "    y = resign,\n",
    "    connector = {\"line\":{\"color\":\"#b20710\"}},\n",
    "    increasing = {\"marker\":{\"color\":\"#b20710\"}},\n",
    "    decreasing = {\"marker\":{\"color\":\"orange\"}},\n",
    "))"
   ]
  },
  {
   "cell_type": "markdown",
   "metadata": {},
   "source": [
    "Setelah mengetahui keadaan dari perusahaan yang sedang tidak baik-baik saja, langkah selanjutnya adalah mengetahui alasan pegawai untuk resign pada setiap divisi pekerjaan yang ada. Perusahaan ingin membuat strategi yang lebih personal sehingga setiap divisi pekerjaan yang ada diberikan perlakuan yang sesuai dengan keluhannya masing-masing. Hanya saja, perusahaan ingin mengetahui divisi apa yang paling rentan resign, kemudian langkah apa yang sekiranya bisa dilakukan oleh perusahaan. Pada tahap ini kamu akan menyelidiki bagaimana persebaran tipe pekerjaan yang paling sering resign beserta alasan mereka yang bisa dijadikan kunci dalam perbaikan management pada setiap divisi pekerjaan yang ada.\n",
    "\n",
    "1. Buatlah dua data frame terpisah yang masing-masing dibentuk dari hasil agregasi jumlah employee berdasarkan pekerjaan, yang sudah resign maupun yang belum resign (Hint: Gunakan filter value pada data frame agar memisahkan dua data frame tentang sudah resign atau belum) \n",
    "2. Gabungkan kedua dataframe tersebut berdasarkan key Pekerjaan (Hint: Gunakan outer join) \n",
    "3. Buatlah dua kolom baru dari tabel baru tersebut, yaitu jumlah employee dan persentase jumlah employee yang masih ada (belum resign) (Hint: Kolom jumlah employee didapatkan dengan menambahkan total employee yang masih ada dan sudah resign, sedangkan yang persentase employee yang masih ada, cukup membagi existing employee dengan total employee) \n",
    "4. Buatlah plot yang menampilkan persentase employee yang masih ada berdasarkan divisi pekerjaannya (Hint: Perhatikan jenis plot yang digunakan) \n",
    "5. Divisi yang memiliki tingkat resign tertinggi, buatlah tabel agregasi untuk menghitung jumlah employee yang resign berdasarkan Jenjang Karir, Performa Karyawan, dan Alasan Resign (Hint: Pastikan yang memiliki tingkat resign tertinggi ini sudah tepat) \n",
    "6. Buatlah plot yang menampilkan tabel agregasi pada tahap sebelumnya (Hint: Perhatikan jenis plot yang digunakan) \n",
    "7. Tuliskan interpretasi dan rekomendasi terhadap hasil plot pada langkah sebelumnya (Hint: Perhatikan apa yang menyebabkan divisi tersebut banyak yang resign, langkah apa yang perlu dilakukan manajemen agar tidak terjadi lagi hal yang seperti itu)"
   ]
  },
  {
   "cell_type": "code",
   "execution_count": 35,
   "metadata": {},
   "outputs": [
    {
     "data": {
      "text/html": [
       "<div>\n",
       "<style scoped>\n",
       "    .dataframe tbody tr th:only-of-type {\n",
       "        vertical-align: middle;\n",
       "    }\n",
       "\n",
       "    .dataframe tbody tr th {\n",
       "        vertical-align: top;\n",
       "    }\n",
       "\n",
       "    .dataframe thead th {\n",
       "        text-align: right;\n",
       "    }\n",
       "</style>\n",
       "<table border=\"1\" class=\"dataframe\">\n",
       "  <thead>\n",
       "    <tr style=\"text-align: right;\">\n",
       "      <th></th>\n",
       "      <th>Username</th>\n",
       "      <th>EnterpriseID</th>\n",
       "      <th>StatusPernikahan</th>\n",
       "      <th>JenisKelamin</th>\n",
       "      <th>StatusKepegawaian</th>\n",
       "      <th>Pekerjaan</th>\n",
       "      <th>JenjangKarir</th>\n",
       "      <th>PerformancePegawai</th>\n",
       "      <th>AsalDaerah</th>\n",
       "      <th>HiringPlatform</th>\n",
       "      <th>SkorSurveyEngagement</th>\n",
       "      <th>SkorKepuasanPegawai</th>\n",
       "      <th>JumlahKeikutsertaanProjek</th>\n",
       "      <th>JumlahKeterlambatanSebulanTerakhir</th>\n",
       "      <th>JumlahKetidakhadiran</th>\n",
       "      <th>NomorHP</th>\n",
       "      <th>Email</th>\n",
       "      <th>TingkatPendidikan</th>\n",
       "      <th>AlasanResign</th>\n",
       "      <th>TanggalLahir</th>\n",
       "      <th>TanggalHiring</th>\n",
       "      <th>TanggalPenilaianKaryawan</th>\n",
       "      <th>TanggalResign</th>\n",
       "      <th>is_resign</th>\n",
       "      <th>is_Male</th>\n",
       "      <th>Career_level</th>\n",
       "      <th>Employee_Performance</th>\n",
       "      <th>Education_level</th>\n",
       "    </tr>\n",
       "  </thead>\n",
       "  <tbody>\n",
       "    <tr>\n",
       "      <th>0</th>\n",
       "      <td>spiritedPorpoise3</td>\n",
       "      <td>111065</td>\n",
       "      <td>Belum_menikah</td>\n",
       "      <td>Pria</td>\n",
       "      <td>Outsource</td>\n",
       "      <td>Software Engineer (Back End)</td>\n",
       "      <td>Freshgraduate_program</td>\n",
       "      <td>Sangat_bagus</td>\n",
       "      <td>Jakarta Timur</td>\n",
       "      <td>Employee_Referral</td>\n",
       "      <td>4</td>\n",
       "      <td>4.0</td>\n",
       "      <td>0.0</td>\n",
       "      <td>0.0</td>\n",
       "      <td>9.0</td>\n",
       "      <td>+6282232522xxx</td>\n",
       "      <td>spiritedPorpoise3135@yahoo.com</td>\n",
       "      <td>Magister</td>\n",
       "      <td>masih_bekerja</td>\n",
       "      <td>1972-07-01</td>\n",
       "      <td>2011-01-10</td>\n",
       "      <td>2016-02-15</td>\n",
       "      <td>NaT</td>\n",
       "      <td>0</td>\n",
       "      <td>1</td>\n",
       "      <td>0</td>\n",
       "      <td>5</td>\n",
       "      <td>2</td>\n",
       "    </tr>\n",
       "    <tr>\n",
       "      <th>1</th>\n",
       "      <td>jealousGelding2</td>\n",
       "      <td>106080</td>\n",
       "      <td>Belum_menikah</td>\n",
       "      <td>Pria</td>\n",
       "      <td>FullTime</td>\n",
       "      <td>Data Analyst</td>\n",
       "      <td>Freshgraduate_program</td>\n",
       "      <td>Sangat_kurang</td>\n",
       "      <td>Jakarta Utara</td>\n",
       "      <td>Website</td>\n",
       "      <td>4</td>\n",
       "      <td>4.0</td>\n",
       "      <td>4.0</td>\n",
       "      <td>0.0</td>\n",
       "      <td>3.0</td>\n",
       "      <td>+6281270745xxx</td>\n",
       "      <td>jealousGelding2239@yahoo.com</td>\n",
       "      <td>Sarjana</td>\n",
       "      <td>toxic_culture</td>\n",
       "      <td>1984-04-26</td>\n",
       "      <td>2014-01-06</td>\n",
       "      <td>2020-01-17</td>\n",
       "      <td>2018-06-16</td>\n",
       "      <td>1</td>\n",
       "      <td>1</td>\n",
       "      <td>0</td>\n",
       "      <td>1</td>\n",
       "      <td>1</td>\n",
       "    </tr>\n",
       "    <tr>\n",
       "      <th>2</th>\n",
       "      <td>pluckyMuesli3</td>\n",
       "      <td>106452</td>\n",
       "      <td>Menikah</td>\n",
       "      <td>Pria</td>\n",
       "      <td>FullTime</td>\n",
       "      <td>Software Engineer (Front End)</td>\n",
       "      <td>Freshgraduate_program</td>\n",
       "      <td>Bagus</td>\n",
       "      <td>Jakarta Timur</td>\n",
       "      <td>Indeed</td>\n",
       "      <td>4</td>\n",
       "      <td>3.0</td>\n",
       "      <td>0.0</td>\n",
       "      <td>0.0</td>\n",
       "      <td>11.0</td>\n",
       "      <td>+6281346215xxx</td>\n",
       "      <td>pluckyMuesli3961@icloud.com</td>\n",
       "      <td>Magister</td>\n",
       "      <td>jam_kerja</td>\n",
       "      <td>1974-01-07</td>\n",
       "      <td>2011-01-10</td>\n",
       "      <td>2016-01-10</td>\n",
       "      <td>2014-09-24</td>\n",
       "      <td>1</td>\n",
       "      <td>1</td>\n",
       "      <td>0</td>\n",
       "      <td>4</td>\n",
       "      <td>2</td>\n",
       "    </tr>\n",
       "    <tr>\n",
       "      <th>3</th>\n",
       "      <td>stressedTruffle1</td>\n",
       "      <td>106325</td>\n",
       "      <td>Belum_menikah</td>\n",
       "      <td>Pria</td>\n",
       "      <td>Outsource</td>\n",
       "      <td>Software Engineer (Front End)</td>\n",
       "      <td>Freshgraduate_program</td>\n",
       "      <td>Bagus</td>\n",
       "      <td>Jakarta Pusat</td>\n",
       "      <td>LinkedIn</td>\n",
       "      <td>3</td>\n",
       "      <td>3.0</td>\n",
       "      <td>0.0</td>\n",
       "      <td>4.0</td>\n",
       "      <td>6.0</td>\n",
       "      <td>+6283233846xxx</td>\n",
       "      <td>stressedTruffle1406@hotmail.com</td>\n",
       "      <td>Sarjana</td>\n",
       "      <td>masih_bekerja</td>\n",
       "      <td>1979-11-24</td>\n",
       "      <td>2014-02-17</td>\n",
       "      <td>2020-02-04</td>\n",
       "      <td>NaT</td>\n",
       "      <td>0</td>\n",
       "      <td>1</td>\n",
       "      <td>0</td>\n",
       "      <td>4</td>\n",
       "      <td>1</td>\n",
       "    </tr>\n",
       "    <tr>\n",
       "      <th>4</th>\n",
       "      <td>shyTermite7</td>\n",
       "      <td>111171</td>\n",
       "      <td>Belum_menikah</td>\n",
       "      <td>Wanita</td>\n",
       "      <td>FullTime</td>\n",
       "      <td>Product Manager</td>\n",
       "      <td>Freshgraduate_program</td>\n",
       "      <td>Bagus</td>\n",
       "      <td>Jakarta Timur</td>\n",
       "      <td>LinkedIn</td>\n",
       "      <td>3</td>\n",
       "      <td>3.0</td>\n",
       "      <td>0.0</td>\n",
       "      <td>0.0</td>\n",
       "      <td>11.0</td>\n",
       "      <td>+6287883263xxx</td>\n",
       "      <td>shyTermite7149@gmail.com</td>\n",
       "      <td>Sarjana</td>\n",
       "      <td>ganti_karir</td>\n",
       "      <td>1974-11-07</td>\n",
       "      <td>2013-11-11</td>\n",
       "      <td>2020-01-22</td>\n",
       "      <td>2018-09-06</td>\n",
       "      <td>1</td>\n",
       "      <td>0</td>\n",
       "      <td>0</td>\n",
       "      <td>4</td>\n",
       "      <td>1</td>\n",
       "    </tr>\n",
       "  </tbody>\n",
       "</table>\n",
       "</div>"
      ],
      "text/plain": [
       "            Username  EnterpriseID StatusPernikahan JenisKelamin  \\\n",
       "0  spiritedPorpoise3        111065    Belum_menikah         Pria   \n",
       "1    jealousGelding2        106080    Belum_menikah         Pria   \n",
       "2      pluckyMuesli3        106452          Menikah         Pria   \n",
       "3   stressedTruffle1        106325    Belum_menikah         Pria   \n",
       "4        shyTermite7        111171    Belum_menikah       Wanita   \n",
       "\n",
       "  StatusKepegawaian                      Pekerjaan           JenjangKarir  \\\n",
       "0         Outsource   Software Engineer (Back End)  Freshgraduate_program   \n",
       "1          FullTime                   Data Analyst  Freshgraduate_program   \n",
       "2          FullTime  Software Engineer (Front End)  Freshgraduate_program   \n",
       "3         Outsource  Software Engineer (Front End)  Freshgraduate_program   \n",
       "4          FullTime                Product Manager  Freshgraduate_program   \n",
       "\n",
       "  PerformancePegawai     AsalDaerah     HiringPlatform  SkorSurveyEngagement  \\\n",
       "0       Sangat_bagus  Jakarta Timur  Employee_Referral                     4   \n",
       "1      Sangat_kurang  Jakarta Utara            Website                     4   \n",
       "2              Bagus  Jakarta Timur             Indeed                     4   \n",
       "3              Bagus  Jakarta Pusat           LinkedIn                     3   \n",
       "4              Bagus  Jakarta Timur           LinkedIn                     3   \n",
       "\n",
       "   SkorKepuasanPegawai  JumlahKeikutsertaanProjek  \\\n",
       "0                  4.0                        0.0   \n",
       "1                  4.0                        4.0   \n",
       "2                  3.0                        0.0   \n",
       "3                  3.0                        0.0   \n",
       "4                  3.0                        0.0   \n",
       "\n",
       "   JumlahKeterlambatanSebulanTerakhir  JumlahKetidakhadiran         NomorHP  \\\n",
       "0                                 0.0                   9.0  +6282232522xxx   \n",
       "1                                 0.0                   3.0  +6281270745xxx   \n",
       "2                                 0.0                  11.0  +6281346215xxx   \n",
       "3                                 4.0                   6.0  +6283233846xxx   \n",
       "4                                 0.0                  11.0  +6287883263xxx   \n",
       "\n",
       "                             Email TingkatPendidikan   AlasanResign  \\\n",
       "0   spiritedPorpoise3135@yahoo.com          Magister  masih_bekerja   \n",
       "1     jealousGelding2239@yahoo.com           Sarjana  toxic_culture   \n",
       "2      pluckyMuesli3961@icloud.com          Magister      jam_kerja   \n",
       "3  stressedTruffle1406@hotmail.com           Sarjana  masih_bekerja   \n",
       "4         shyTermite7149@gmail.com           Sarjana    ganti_karir   \n",
       "\n",
       "  TanggalLahir TanggalHiring TanggalPenilaianKaryawan TanggalResign  \\\n",
       "0   1972-07-01    2011-01-10               2016-02-15           NaT   \n",
       "1   1984-04-26    2014-01-06               2020-01-17    2018-06-16   \n",
       "2   1974-01-07    2011-01-10               2016-01-10    2014-09-24   \n",
       "3   1979-11-24    2014-02-17               2020-02-04           NaT   \n",
       "4   1974-11-07    2013-11-11               2020-01-22    2018-09-06   \n",
       "\n",
       "   is_resign  is_Male  Career_level  Employee_Performance  Education_level  \n",
       "0          0        1             0                     5                2  \n",
       "1          1        1             0                     1                1  \n",
       "2          1        1             0                     4                2  \n",
       "3          0        1             0                     4                1  \n",
       "4          1        0             0                     4                1  "
      ]
     },
     "execution_count": 35,
     "metadata": {},
     "output_type": "execute_result"
    }
   ],
   "source": [
    "df_pre.head(5)"
   ]
  },
  {
   "cell_type": "code",
   "execution_count": 36,
   "metadata": {},
   "outputs": [],
   "source": [
    "df_work_resign = df_pre.groupby(['Pekerjaan','is_resign'])[['Username']].count()\n",
    "df_work_resign.reset_index(inplace=True)\n",
    "\n",
    "\n",
    "df_work_resign = pd.pivot_table(data=df_work_resign,\n",
    "               columns = 'is_resign',\n",
    "               values = 'Username',\n",
    "               index='Pekerjaan'\n",
    "               )\n",
    "df_work_resign = df_work_resign.fillna(0)\n",
    "df_work_resign.columns = ['0','1']\n",
    "df_work_resign.reset_index(inplace=True)"
   ]
  },
  {
   "cell_type": "code",
   "execution_count": 37,
   "metadata": {},
   "outputs": [
    {
     "data": {
      "text/html": [
       "<div>\n",
       "<style scoped>\n",
       "    .dataframe tbody tr th:only-of-type {\n",
       "        vertical-align: middle;\n",
       "    }\n",
       "\n",
       "    .dataframe tbody tr th {\n",
       "        vertical-align: top;\n",
       "    }\n",
       "\n",
       "    .dataframe thead th {\n",
       "        text-align: right;\n",
       "    }\n",
       "</style>\n",
       "<table border=\"1\" class=\"dataframe\">\n",
       "  <thead>\n",
       "    <tr style=\"text-align: right;\">\n",
       "      <th></th>\n",
       "      <th>Occupation</th>\n",
       "      <th>Not_Resign</th>\n",
       "      <th>Resign</th>\n",
       "      <th>Resign_ratio</th>\n",
       "    </tr>\n",
       "  </thead>\n",
       "  <tbody>\n",
       "    <tr>\n",
       "      <th>2</th>\n",
       "      <td>DevOps Engineer</td>\n",
       "      <td>3.0</td>\n",
       "      <td>0.0</td>\n",
       "      <td>0.00</td>\n",
       "    </tr>\n",
       "    <tr>\n",
       "      <th>3</th>\n",
       "      <td>Digital Product Manager</td>\n",
       "      <td>2.0</td>\n",
       "      <td>0.0</td>\n",
       "      <td>0.00</td>\n",
       "    </tr>\n",
       "    <tr>\n",
       "      <th>4</th>\n",
       "      <td>Machine Learning Engineer</td>\n",
       "      <td>2.0</td>\n",
       "      <td>0.0</td>\n",
       "      <td>0.00</td>\n",
       "    </tr>\n",
       "    <tr>\n",
       "      <th>6</th>\n",
       "      <td>Product Design (UX Researcher)</td>\n",
       "      <td>1.0</td>\n",
       "      <td>0.0</td>\n",
       "      <td>0.00</td>\n",
       "    </tr>\n",
       "    <tr>\n",
       "      <th>8</th>\n",
       "      <td>Scrum Master</td>\n",
       "      <td>2.0</td>\n",
       "      <td>0.0</td>\n",
       "      <td>0.00</td>\n",
       "    </tr>\n",
       "    <tr>\n",
       "      <th>9</th>\n",
       "      <td>Software Architect</td>\n",
       "      <td>1.0</td>\n",
       "      <td>0.0</td>\n",
       "      <td>0.00</td>\n",
       "    </tr>\n",
       "    <tr>\n",
       "      <th>13</th>\n",
       "      <td>Software Engineer (iOS)</td>\n",
       "      <td>3.0</td>\n",
       "      <td>0.0</td>\n",
       "      <td>0.00</td>\n",
       "    </tr>\n",
       "    <tr>\n",
       "      <th>11</th>\n",
       "      <td>Software Engineer (Back End)</td>\n",
       "      <td>77.0</td>\n",
       "      <td>28.0</td>\n",
       "      <td>26.67</td>\n",
       "    </tr>\n",
       "    <tr>\n",
       "      <th>1</th>\n",
       "      <td>Data Engineer</td>\n",
       "      <td>7.0</td>\n",
       "      <td>3.0</td>\n",
       "      <td>30.00</td>\n",
       "    </tr>\n",
       "    <tr>\n",
       "      <th>7</th>\n",
       "      <td>Product Manager</td>\n",
       "      <td>11.0</td>\n",
       "      <td>5.0</td>\n",
       "      <td>31.25</td>\n",
       "    </tr>\n",
       "    <tr>\n",
       "      <th>10</th>\n",
       "      <td>Software Engineer (Android)</td>\n",
       "      <td>15.0</td>\n",
       "      <td>7.0</td>\n",
       "      <td>31.82</td>\n",
       "    </tr>\n",
       "    <tr>\n",
       "      <th>5</th>\n",
       "      <td>Product Design (UI &amp; UX)</td>\n",
       "      <td>14.0</td>\n",
       "      <td>8.0</td>\n",
       "      <td>36.36</td>\n",
       "    </tr>\n",
       "    <tr>\n",
       "      <th>12</th>\n",
       "      <td>Software Engineer (Front End)</td>\n",
       "      <td>44.0</td>\n",
       "      <td>27.0</td>\n",
       "      <td>38.03</td>\n",
       "    </tr>\n",
       "    <tr>\n",
       "      <th>0</th>\n",
       "      <td>Data Analyst</td>\n",
       "      <td>7.0</td>\n",
       "      <td>8.0</td>\n",
       "      <td>53.33</td>\n",
       "    </tr>\n",
       "  </tbody>\n",
       "</table>\n",
       "</div>"
      ],
      "text/plain": [
       "                        Occupation  Not_Resign  Resign  Resign_ratio\n",
       "2                  DevOps Engineer         3.0     0.0          0.00\n",
       "3          Digital Product Manager         2.0     0.0          0.00\n",
       "4        Machine Learning Engineer         2.0     0.0          0.00\n",
       "6   Product Design (UX Researcher)         1.0     0.0          0.00\n",
       "8                     Scrum Master         2.0     0.0          0.00\n",
       "9               Software Architect         1.0     0.0          0.00\n",
       "13         Software Engineer (iOS)         3.0     0.0          0.00\n",
       "11    Software Engineer (Back End)        77.0    28.0         26.67\n",
       "1                    Data Engineer         7.0     3.0         30.00\n",
       "7                  Product Manager        11.0     5.0         31.25\n",
       "10     Software Engineer (Android)        15.0     7.0         31.82\n",
       "5         Product Design (UI & UX)        14.0     8.0         36.36\n",
       "12   Software Engineer (Front End)        44.0    27.0         38.03\n",
       "0                     Data Analyst         7.0     8.0         53.33"
      ]
     },
     "execution_count": 37,
     "metadata": {},
     "output_type": "execute_result"
    }
   ],
   "source": [
    "df_work_resign['resign_ratio'] = round (df_work_resign['1'] / (df_work_resign['0'] + df_work_resign['1']) * 100,2)\n",
    "df_work_resign = df_work_resign.sort_values(by='resign_ratio')\n",
    "df_work_resign.columns = ['Occupation','Not_Resign','Resign','Resign_ratio']\n",
    "df_work_resign"
   ]
  },
  {
   "cell_type": "code",
   "execution_count": 38,
   "metadata": {},
   "outputs": [
    {
     "data": {
      "image/png": "[encoded data removed]",
      "text/plain": [
       "<Figure size 1200x1200 with 2 Axes>"
      ]
     },
     "metadata": {},
     "output_type": "display_data"
    }
   ],
   "source": [
    "plt.figure(figsize=(12,12))\n",
    "plt.subplot(2,1,1)\n",
    "sns.barplot( data=df_work_resign, y='Occupation', x='Resign_ratio')\n",
    "plt.title('Resign Percentage By Occupation', fontsize = 16)\n",
    "\n",
    "plt.subplot(2,1,2)\n",
    "plt.title('Total Resign by Occupation', fontsize = 16)\n",
    "sns.barplot(data=df_work_resign, y='Occupation',x='Resign')\n",
    "plt.tight_layout()"
   ]
  },
  {
   "cell_type": "markdown",
   "metadata": {},
   "source": [
    "Data Analyst menjadi pekerjaan dengan presentasi resign tertinggi, diikuti oleh Software Engineer(Front End), dan product Design (UI&UX)"
   ]
  },
  {
   "cell_type": "code",
   "execution_count": 39,
   "metadata": {},
   "outputs": [
    {
     "data": {
      "text/html": [
       "<div>\n",
       "<style scoped>\n",
       "    .dataframe tbody tr th:only-of-type {\n",
       "        vertical-align: middle;\n",
       "    }\n",
       "\n",
       "    .dataframe tbody tr th {\n",
       "        vertical-align: top;\n",
       "    }\n",
       "\n",
       "    .dataframe thead th {\n",
       "        text-align: right;\n",
       "    }\n",
       "</style>\n",
       "<table border=\"1\" class=\"dataframe\">\n",
       "  <thead>\n",
       "    <tr style=\"text-align: right;\">\n",
       "      <th></th>\n",
       "      <th></th>\n",
       "      <th></th>\n",
       "      <th>Username</th>\n",
       "    </tr>\n",
       "    <tr>\n",
       "      <th>JenjangKarir</th>\n",
       "      <th>Employee_Performance</th>\n",
       "      <th>AlasanResign</th>\n",
       "      <th></th>\n",
       "    </tr>\n",
       "  </thead>\n",
       "  <tbody>\n",
       "    <tr>\n",
       "      <th rowspan=\"6\" valign=\"top\">Freshgraduate_program</th>\n",
       "      <th>1</th>\n",
       "      <th>toxic_culture</th>\n",
       "      <td>1</td>\n",
       "    </tr>\n",
       "    <tr>\n",
       "      <th rowspan=\"2\" valign=\"top\">3</th>\n",
       "      <th>internal_conflict</th>\n",
       "      <td>1</td>\n",
       "    </tr>\n",
       "    <tr>\n",
       "      <th>toxic_culture</th>\n",
       "      <td>1</td>\n",
       "    </tr>\n",
       "    <tr>\n",
       "      <th>4</th>\n",
       "      <th>toxic_culture</th>\n",
       "      <td>1</td>\n",
       "    </tr>\n",
       "    <tr>\n",
       "      <th rowspan=\"2\" valign=\"top\">5</th>\n",
       "      <th>internal_conflict</th>\n",
       "      <td>1</td>\n",
       "    </tr>\n",
       "    <tr>\n",
       "      <th>toxic_culture</th>\n",
       "      <td>3</td>\n",
       "    </tr>\n",
       "  </tbody>\n",
       "</table>\n",
       "</div>"
      ],
      "text/plain": [
       "                                                              Username\n",
       "JenjangKarir          Employee_Performance AlasanResign               \n",
       "Freshgraduate_program 1                    toxic_culture             1\n",
       "                      3                    internal_conflict         1\n",
       "                                           toxic_culture             1\n",
       "                      4                    toxic_culture             1\n",
       "                      5                    internal_conflict         1\n",
       "                                           toxic_culture             3"
      ]
     },
     "execution_count": 39,
     "metadata": {},
     "output_type": "execute_result"
    }
   ],
   "source": [
    "df_pre[ (df_pre['Pekerjaan']=='Data Analyst') & df_pre['is_resign']==1 ].groupby(['JenjangKarir','Employee_Performance','AlasanResign'])[['Username']].count()"
   ]
  },
  {
   "cell_type": "code",
   "execution_count": 40,
   "metadata": {},
   "outputs": [
    {
     "data": {
      "text/html": [
       "<div>\n",
       "<style scoped>\n",
       "    .dataframe tbody tr th:only-of-type {\n",
       "        vertical-align: middle;\n",
       "    }\n",
       "\n",
       "    .dataframe tbody tr th {\n",
       "        vertical-align: top;\n",
       "    }\n",
       "\n",
       "    .dataframe thead th {\n",
       "        text-align: right;\n",
       "    }\n",
       "</style>\n",
       "<table border=\"1\" class=\"dataframe\">\n",
       "  <thead>\n",
       "    <tr style=\"text-align: right;\">\n",
       "      <th></th>\n",
       "      <th>JenjangKarir</th>\n",
       "      <th>Jumlah Resign</th>\n",
       "    </tr>\n",
       "  </thead>\n",
       "  <tbody>\n",
       "    <tr>\n",
       "      <th>0</th>\n",
       "      <td>Freshgraduate_program</td>\n",
       "      <td>8</td>\n",
       "    </tr>\n",
       "  </tbody>\n",
       "</table>\n",
       "</div>"
      ],
      "text/plain": [
       "            JenjangKarir  Jumlah Resign\n",
       "0  Freshgraduate_program              8"
      ]
     },
     "execution_count": 40,
     "metadata": {},
     "output_type": "execute_result"
    }
   ],
   "source": [
    "Data_analyst_JenjangKarir = df_pre[ (df_pre['Pekerjaan']=='Data Analyst') & df_pre['is_resign']==1 ].groupby(['JenjangKarir'])[['Username']].count()\n",
    "Data_analyst_JenjangKarir = Data_analyst_JenjangKarir.reset_index()\n",
    "Data_analyst_JenjangKarir.columns=['JenjangKarir','Jumlah Resign']\n",
    "Data_analyst_JenjangKarir"
   ]
  },
  {
   "cell_type": "code",
   "execution_count": 41,
   "metadata": {},
   "outputs": [
    {
     "data": {
      "text/html": [
       "<div>\n",
       "<style scoped>\n",
       "    .dataframe tbody tr th:only-of-type {\n",
       "        vertical-align: middle;\n",
       "    }\n",
       "\n",
       "    .dataframe tbody tr th {\n",
       "        vertical-align: top;\n",
       "    }\n",
       "\n",
       "    .dataframe thead th {\n",
       "        text-align: right;\n",
       "    }\n",
       "</style>\n",
       "<table border=\"1\" class=\"dataframe\">\n",
       "  <thead>\n",
       "    <tr style=\"text-align: right;\">\n",
       "      <th></th>\n",
       "      <th>Employee_Performance</th>\n",
       "      <th>Jumlah Resign</th>\n",
       "    </tr>\n",
       "  </thead>\n",
       "  <tbody>\n",
       "    <tr>\n",
       "      <th>0</th>\n",
       "      <td>1</td>\n",
       "      <td>1</td>\n",
       "    </tr>\n",
       "    <tr>\n",
       "      <th>1</th>\n",
       "      <td>3</td>\n",
       "      <td>2</td>\n",
       "    </tr>\n",
       "    <tr>\n",
       "      <th>2</th>\n",
       "      <td>4</td>\n",
       "      <td>1</td>\n",
       "    </tr>\n",
       "    <tr>\n",
       "      <th>3</th>\n",
       "      <td>5</td>\n",
       "      <td>4</td>\n",
       "    </tr>\n",
       "  </tbody>\n",
       "</table>\n",
       "</div>"
      ],
      "text/plain": [
       "   Employee_Performance  Jumlah Resign\n",
       "0                     1              1\n",
       "1                     3              2\n",
       "2                     4              1\n",
       "3                     5              4"
      ]
     },
     "execution_count": 41,
     "metadata": {},
     "output_type": "execute_result"
    }
   ],
   "source": [
    "Data_analyst_Employee_Performance = df_pre[ (df_pre['Pekerjaan']=='Data Analyst') & df_pre['is_resign']==1 ].groupby(['Employee_Performance'])[['Username']].count()\n",
    "Data_analyst_Employee_Performance = Data_analyst_Employee_Performance.reset_index()\n",
    "Data_analyst_Employee_Performance.columns=['Employee_Performance','Jumlah Resign']\n",
    "Data_analyst_Employee_Performance"
   ]
  },
  {
   "cell_type": "code",
   "execution_count": 42,
   "metadata": {},
   "outputs": [
    {
     "data": {
      "text/plain": [
       "<matplotlib.legend.Legend at 0x23d8282ecd0>"
      ]
     },
     "execution_count": 42,
     "metadata": {},
     "output_type": "execute_result"
    },
    {
     "data": {
      "image/png": "[encoded data removed]",
      "text/plain": [
       "<Figure size 700x700 with 1 Axes>"
      ]
     },
     "metadata": {},
     "output_type": "display_data"
    }
   ],
   "source": [
    "plt.figure(figsize=(7,7))\n",
    "myexplode = [0,0,0,0.1]\n",
    "plt.title('Total Resign of Data Analyst by Employee Performance', fontsize = 16)\n",
    "plt.pie(x=Data_analyst_Employee_Performance['Jumlah Resign'], labels=Data_analyst_Employee_Performance['Employee_Performance'], explode=myexplode, shadow = True, autopct = \"%1.1f%%\")\n",
    "plt.legend()"
   ]
  },
  {
   "cell_type": "code",
   "execution_count": 43,
   "metadata": {},
   "outputs": [
    {
     "data": {
      "text/html": [
       "<div>\n",
       "<style scoped>\n",
       "    .dataframe tbody tr th:only-of-type {\n",
       "        vertical-align: middle;\n",
       "    }\n",
       "\n",
       "    .dataframe tbody tr th {\n",
       "        vertical-align: top;\n",
       "    }\n",
       "\n",
       "    .dataframe thead th {\n",
       "        text-align: right;\n",
       "    }\n",
       "</style>\n",
       "<table border=\"1\" class=\"dataframe\">\n",
       "  <thead>\n",
       "    <tr style=\"text-align: right;\">\n",
       "      <th></th>\n",
       "      <th>Alasan Resign</th>\n",
       "      <th>Jumlah Resign</th>\n",
       "    </tr>\n",
       "  </thead>\n",
       "  <tbody>\n",
       "    <tr>\n",
       "      <th>0</th>\n",
       "      <td>internal_conflict</td>\n",
       "      <td>2</td>\n",
       "    </tr>\n",
       "    <tr>\n",
       "      <th>1</th>\n",
       "      <td>toxic_culture</td>\n",
       "      <td>6</td>\n",
       "    </tr>\n",
       "  </tbody>\n",
       "</table>\n",
       "</div>"
      ],
      "text/plain": [
       "       Alasan Resign  Jumlah Resign\n",
       "0  internal_conflict              2\n",
       "1      toxic_culture              6"
      ]
     },
     "execution_count": 43,
     "metadata": {},
     "output_type": "execute_result"
    }
   ],
   "source": [
    "Data_analyst_AlasanResign = df_pre[ (df_pre['Pekerjaan']=='Data Analyst') & df_pre['is_resign']==1 ].groupby(['AlasanResign'])[['Username']].count()\n",
    "Data_analyst_AlasanResign = Data_analyst_AlasanResign.reset_index()\n",
    "Data_analyst_AlasanResign.columns=['Alasan Resign','Jumlah Resign']\n",
    "Data_analyst_AlasanResign"
   ]
  },
  {
   "cell_type": "code",
   "execution_count": 44,
   "metadata": {},
   "outputs": [
    {
     "data": {
      "text/plain": [
       "<matplotlib.legend.Legend at 0x23d828ac610>"
      ]
     },
     "execution_count": 44,
     "metadata": {},
     "output_type": "execute_result"
    },
    {
     "data": {
      "image/png": "[encoded data removed]",
      "text/plain": [
       "<Figure size 700x700 with 1 Axes>"
      ]
     },
     "metadata": {},
     "output_type": "display_data"
    }
   ],
   "source": [
    "plt.figure(figsize=(7,7))\n",
    "myexplode = [0.1,0]\n",
    "plt.title('Causes of Resignation From Data Analyst', fontsize = 16)\n",
    "plt.pie(x=Data_analyst_AlasanResign['Jumlah Resign'], labels=Data_analyst_AlasanResign['Alasan Resign'], shadow = True, autopct = \"%1.1f%%\", explode=myexplode)\n",
    "plt.legend()"
   ]
  },
  {
   "cell_type": "markdown",
   "metadata": {},
   "source": [
    "# Build an Automated Resignation Behavior Prediction using Machine Learning\n",
    "\n",
    "Dalam konteks rancangan jangka panjang, perusahaan telah memiliki titik-titik tujuan yang harus dicapai agar performa bisnis berjalan dengan baik yang dapat berpotensi mendatangkan investor. Rencana ini serta merta bisa dicapai apabila sumber daya manusia nya juga memadai secara kuantitas dan juga kualitas. Mengingat bahwa aset terpenting perusahaan, yaitu manusianya, sedang dalam kondisi yang tidak baik-baik saja, maka perusahaan ingin membangun sebuah sistem pendeteksi otomatis tentang keinginan resign dari karyawan yang ada di perusahaan. Sistem ini dirancang agar perusahaan dapat mengetahui permasalahan dari dini (early-stage prevention), sehingga perusahaan dapat memetakan karyawan-karyawan yang resign dalam program retention se-awal mungkin. Hanya saja, perusahaan tidak ingin sistem yang dibuatnya memiliki sifat racism, gender-biased, miss-interpretation, discriminative sehingga keputusan yang diambil adalah keputusan yang bijak dan beresiko rendah.\n",
    "\n",
    "1. Melakukan check kembali kepada tahap data preprocessing yang dilakukan pada tugas 1, mulai dari mendeteksi ada tidaknya missing value pada baris dan kolom, deteksi data duplikat, menanggulangi pencilan pada data, transformasi pada data seperti categorical encoding, melakukan feature engineering, dan feature selection berdasarkan domain expertise. (Hint: Perhatikan fitur-fitur yang sekiranya perlu ditransformasi, jumlah fitur yang direkomendasikan akhir yang direkomendasikan tidak melebihi 40, membuang fitur-fitur yang sekiranya tidak bermakna secara dunia nyata terhadap model.) \n",
    "2. Melakukan data split pada train dan testing, serta menyeimbangkan proporsi data training pada target yang ada (imbalanced learning). (Hint: Cari metode yang paling cocok untuk menyeimbangkan proporsi data training (berdasarkan variable target) agar model nantinya tidak bersifat diskriminatif) \n",
    "3. Latihlah model dengan berbagai algoritma ML yang ada, tentukan ML metrics yang sekiranya berkaitan dengan tujuan bisnis untuk menjadi benchmark pada ML model selection. (Hint: Perhatikan jenis metrics yang ada, lakukan training pada data yang sudah dilakukan imbalanced learning) \n",
    "4. Pilih ML model terbaik, kemudian lakukan hyperparameter tuning agar meningkatkan performa ML. Gunakan metode pipeline dan cross-validation agar menghasilkan model yang berkualitas (Hint: Perhatikan hyperparameter yang ada pada model terbaik, lakukan tuning yang) \n",
    "5. Tampilkan visualisasi dari ML metrics yang diukur, tunjukan pula bahwa ML tidak bersifat diskriminatif ketika melakukan prediksi target. (Hint: Tampilkan visualisasi seperti confusion matrix, ROC plot, atau yang lainnya)"
   ]
  },
  {
   "cell_type": "code",
   "execution_count": 47,
   "metadata": {},
   "outputs": [
    {
     "data": {
      "text/plain": [
       "275"
      ]
     },
     "execution_count": 47,
     "metadata": {},
     "output_type": "execute_result"
    }
   ],
   "source": [
    "df_pre.duplicated().count()"
   ]
  },
  {
   "cell_type": "code",
   "execution_count": 48,
   "metadata": {},
   "outputs": [
    {
     "data": {
      "text/plain": [
       "Username                                0\n",
       "EnterpriseID                            0\n",
       "StatusPernikahan                        0\n",
       "JenisKelamin                            0\n",
       "StatusKepegawaian                       0\n",
       "Pekerjaan                               0\n",
       "JenjangKarir                            0\n",
       "PerformancePegawai                      0\n",
       "AsalDaerah                              0\n",
       "HiringPlatform                          0\n",
       "SkorSurveyEngagement                    0\n",
       "SkorKepuasanPegawai                     0\n",
       "JumlahKeikutsertaanProjek               0\n",
       "JumlahKeterlambatanSebulanTerakhir      0\n",
       "JumlahKetidakhadiran                    0\n",
       "NomorHP                                 0\n",
       "Email                                   0\n",
       "TingkatPendidikan                       0\n",
       "AlasanResign                            0\n",
       "TanggalLahir                            0\n",
       "TanggalHiring                           0\n",
       "TanggalPenilaianKaryawan                0\n",
       "TanggalResign                         189\n",
       "is_resign                               0\n",
       "is_Male                                 0\n",
       "Career_level                            0\n",
       "Employee_Performance                    0\n",
       "Education_level                         0\n",
       "dtype: int64"
      ]
     },
     "execution_count": 48,
     "metadata": {},
     "output_type": "execute_result"
    }
   ],
   "source": [
    "df_pre.isnull().sum()"
   ]
  },
  {
   "cell_type": "code",
   "execution_count": 53,
   "metadata": {},
   "outputs": [
    {
     "data": {
      "text/html": [
       "<div>\n",
       "<style scoped>\n",
       "    .dataframe tbody tr th:only-of-type {\n",
       "        vertical-align: middle;\n",
       "    }\n",
       "\n",
       "    .dataframe tbody tr th {\n",
       "        vertical-align: top;\n",
       "    }\n",
       "\n",
       "    .dataframe thead th {\n",
       "        text-align: right;\n",
       "    }\n",
       "</style>\n",
       "<table border=\"1\" class=\"dataframe\">\n",
       "  <thead>\n",
       "    <tr style=\"text-align: right;\">\n",
       "      <th></th>\n",
       "      <th>Username</th>\n",
       "      <th>EnterpriseID</th>\n",
       "      <th>StatusPernikahan</th>\n",
       "      <th>JenisKelamin</th>\n",
       "      <th>StatusKepegawaian</th>\n",
       "      <th>Pekerjaan</th>\n",
       "      <th>JenjangKarir</th>\n",
       "      <th>PerformancePegawai</th>\n",
       "      <th>AsalDaerah</th>\n",
       "      <th>HiringPlatform</th>\n",
       "      <th>SkorSurveyEngagement</th>\n",
       "      <th>SkorKepuasanPegawai</th>\n",
       "      <th>JumlahKeikutsertaanProjek</th>\n",
       "      <th>JumlahKeterlambatanSebulanTerakhir</th>\n",
       "      <th>JumlahKetidakhadiran</th>\n",
       "      <th>NomorHP</th>\n",
       "      <th>Email</th>\n",
       "      <th>TingkatPendidikan</th>\n",
       "      <th>AlasanResign</th>\n",
       "      <th>TanggalLahir</th>\n",
       "      <th>TanggalHiring</th>\n",
       "      <th>TanggalPenilaianKaryawan</th>\n",
       "      <th>TanggalResign</th>\n",
       "      <th>is_resign</th>\n",
       "      <th>is_Male</th>\n",
       "      <th>Career_level</th>\n",
       "      <th>Employee_Performance</th>\n",
       "      <th>Education_level</th>\n",
       "    </tr>\n",
       "  </thead>\n",
       "  <tbody>\n",
       "    <tr>\n",
       "      <th>0</th>\n",
       "      <td>spiritedPorpoise3</td>\n",
       "      <td>111065</td>\n",
       "      <td>Belum_menikah</td>\n",
       "      <td>Pria</td>\n",
       "      <td>Outsource</td>\n",
       "      <td>Software Engineer (Back End)</td>\n",
       "      <td>Freshgraduate_program</td>\n",
       "      <td>Sangat_bagus</td>\n",
       "      <td>Jakarta Timur</td>\n",
       "      <td>Employee_Referral</td>\n",
       "      <td>4</td>\n",
       "      <td>4.0</td>\n",
       "      <td>0.0</td>\n",
       "      <td>0.0</td>\n",
       "      <td>9.0</td>\n",
       "      <td>+6282232522xxx</td>\n",
       "      <td>spiritedPorpoise3135@yahoo.com</td>\n",
       "      <td>Magister</td>\n",
       "      <td>masih_bekerja</td>\n",
       "      <td>1972-07-01</td>\n",
       "      <td>2011-01-10</td>\n",
       "      <td>2016-02-15</td>\n",
       "      <td>NaT</td>\n",
       "      <td>0</td>\n",
       "      <td>1</td>\n",
       "      <td>0</td>\n",
       "      <td>5</td>\n",
       "      <td>2</td>\n",
       "    </tr>\n",
       "    <tr>\n",
       "      <th>1</th>\n",
       "      <td>jealousGelding2</td>\n",
       "      <td>106080</td>\n",
       "      <td>Belum_menikah</td>\n",
       "      <td>Pria</td>\n",
       "      <td>FullTime</td>\n",
       "      <td>Data Analyst</td>\n",
       "      <td>Freshgraduate_program</td>\n",
       "      <td>Sangat_kurang</td>\n",
       "      <td>Jakarta Utara</td>\n",
       "      <td>Website</td>\n",
       "      <td>4</td>\n",
       "      <td>4.0</td>\n",
       "      <td>4.0</td>\n",
       "      <td>0.0</td>\n",
       "      <td>3.0</td>\n",
       "      <td>+6281270745xxx</td>\n",
       "      <td>jealousGelding2239@yahoo.com</td>\n",
       "      <td>Sarjana</td>\n",
       "      <td>toxic_culture</td>\n",
       "      <td>1984-04-26</td>\n",
       "      <td>2014-01-06</td>\n",
       "      <td>2020-01-17</td>\n",
       "      <td>2018-06-16</td>\n",
       "      <td>1</td>\n",
       "      <td>1</td>\n",
       "      <td>0</td>\n",
       "      <td>1</td>\n",
       "      <td>1</td>\n",
       "    </tr>\n",
       "    <tr>\n",
       "      <th>2</th>\n",
       "      <td>pluckyMuesli3</td>\n",
       "      <td>106452</td>\n",
       "      <td>Menikah</td>\n",
       "      <td>Pria</td>\n",
       "      <td>FullTime</td>\n",
       "      <td>Software Engineer (Front End)</td>\n",
       "      <td>Freshgraduate_program</td>\n",
       "      <td>Bagus</td>\n",
       "      <td>Jakarta Timur</td>\n",
       "      <td>Indeed</td>\n",
       "      <td>4</td>\n",
       "      <td>3.0</td>\n",
       "      <td>0.0</td>\n",
       "      <td>0.0</td>\n",
       "      <td>11.0</td>\n",
       "      <td>+6281346215xxx</td>\n",
       "      <td>pluckyMuesli3961@icloud.com</td>\n",
       "      <td>Magister</td>\n",
       "      <td>jam_kerja</td>\n",
       "      <td>1974-01-07</td>\n",
       "      <td>2011-01-10</td>\n",
       "      <td>2016-01-10</td>\n",
       "      <td>2014-09-24</td>\n",
       "      <td>1</td>\n",
       "      <td>1</td>\n",
       "      <td>0</td>\n",
       "      <td>4</td>\n",
       "      <td>2</td>\n",
       "    </tr>\n",
       "    <tr>\n",
       "      <th>3</th>\n",
       "      <td>stressedTruffle1</td>\n",
       "      <td>106325</td>\n",
       "      <td>Belum_menikah</td>\n",
       "      <td>Pria</td>\n",
       "      <td>Outsource</td>\n",
       "      <td>Software Engineer (Front End)</td>\n",
       "      <td>Freshgraduate_program</td>\n",
       "      <td>Bagus</td>\n",
       "      <td>Jakarta Pusat</td>\n",
       "      <td>LinkedIn</td>\n",
       "      <td>3</td>\n",
       "      <td>3.0</td>\n",
       "      <td>0.0</td>\n",
       "      <td>4.0</td>\n",
       "      <td>6.0</td>\n",
       "      <td>+6283233846xxx</td>\n",
       "      <td>stressedTruffle1406@hotmail.com</td>\n",
       "      <td>Sarjana</td>\n",
       "      <td>masih_bekerja</td>\n",
       "      <td>1979-11-24</td>\n",
       "      <td>2014-02-17</td>\n",
       "      <td>2020-02-04</td>\n",
       "      <td>NaT</td>\n",
       "      <td>0</td>\n",
       "      <td>1</td>\n",
       "      <td>0</td>\n",
       "      <td>4</td>\n",
       "      <td>1</td>\n",
       "    </tr>\n",
       "  </tbody>\n",
       "</table>\n",
       "</div>"
      ],
      "text/plain": [
       "            Username  EnterpriseID StatusPernikahan JenisKelamin  \\\n",
       "0  spiritedPorpoise3        111065    Belum_menikah         Pria   \n",
       "1    jealousGelding2        106080    Belum_menikah         Pria   \n",
       "2      pluckyMuesli3        106452          Menikah         Pria   \n",
       "3   stressedTruffle1        106325    Belum_menikah         Pria   \n",
       "\n",
       "  StatusKepegawaian                      Pekerjaan           JenjangKarir  \\\n",
       "0         Outsource   Software Engineer (Back End)  Freshgraduate_program   \n",
       "1          FullTime                   Data Analyst  Freshgraduate_program   \n",
       "2          FullTime  Software Engineer (Front End)  Freshgraduate_program   \n",
       "3         Outsource  Software Engineer (Front End)  Freshgraduate_program   \n",
       "\n",
       "  PerformancePegawai     AsalDaerah     HiringPlatform  SkorSurveyEngagement  \\\n",
       "0       Sangat_bagus  Jakarta Timur  Employee_Referral                     4   \n",
       "1      Sangat_kurang  Jakarta Utara            Website                     4   \n",
       "2              Bagus  Jakarta Timur             Indeed                     4   \n",
       "3              Bagus  Jakarta Pusat           LinkedIn                     3   \n",
       "\n",
       "   SkorKepuasanPegawai  JumlahKeikutsertaanProjek  \\\n",
       "0                  4.0                        0.0   \n",
       "1                  4.0                        4.0   \n",
       "2                  3.0                        0.0   \n",
       "3                  3.0                        0.0   \n",
       "\n",
       "   JumlahKeterlambatanSebulanTerakhir  JumlahKetidakhadiran         NomorHP  \\\n",
       "0                                 0.0                   9.0  +6282232522xxx   \n",
       "1                                 0.0                   3.0  +6281270745xxx   \n",
       "2                                 0.0                  11.0  +6281346215xxx   \n",
       "3                                 4.0                   6.0  +6283233846xxx   \n",
       "\n",
       "                             Email TingkatPendidikan   AlasanResign  \\\n",
       "0   spiritedPorpoise3135@yahoo.com          Magister  masih_bekerja   \n",
       "1     jealousGelding2239@yahoo.com           Sarjana  toxic_culture   \n",
       "2      pluckyMuesli3961@icloud.com          Magister      jam_kerja   \n",
       "3  stressedTruffle1406@hotmail.com           Sarjana  masih_bekerja   \n",
       "\n",
       "  TanggalLahir TanggalHiring TanggalPenilaianKaryawan TanggalResign  \\\n",
       "0   1972-07-01    2011-01-10               2016-02-15           NaT   \n",
       "1   1984-04-26    2014-01-06               2020-01-17    2018-06-16   \n",
       "2   1974-01-07    2011-01-10               2016-01-10    2014-09-24   \n",
       "3   1979-11-24    2014-02-17               2020-02-04           NaT   \n",
       "\n",
       "   is_resign  is_Male  Career_level  Employee_Performance  Education_level  \n",
       "0          0        1             0                     5                2  \n",
       "1          1        1             0                     1                1  \n",
       "2          1        1             0                     4                2  \n",
       "3          0        1             0                     4                1  "
      ]
     },
     "execution_count": 53,
     "metadata": {},
     "output_type": "execute_result"
    }
   ],
   "source": [
    "df_pre.head(4)"
   ]
  },
  {
   "cell_type": "markdown",
   "metadata": {},
   "source": [
    "## Feature Selection"
   ]
  },
  {
   "cell_type": "code",
   "execution_count": 57,
   "metadata": {},
   "outputs": [
    {
     "data": {
      "text/html": [
       "<div>\n",
       "<style scoped>\n",
       "    .dataframe tbody tr th:only-of-type {\n",
       "        vertical-align: middle;\n",
       "    }\n",
       "\n",
       "    .dataframe tbody tr th {\n",
       "        vertical-align: top;\n",
       "    }\n",
       "\n",
       "    .dataframe thead th {\n",
       "        text-align: right;\n",
       "    }\n",
       "</style>\n",
       "<table border=\"1\" class=\"dataframe\">\n",
       "  <thead>\n",
       "    <tr style=\"text-align: right;\">\n",
       "      <th></th>\n",
       "      <th>SkorSurveyEngagement</th>\n",
       "      <th>SkorKepuasanPegawai</th>\n",
       "      <th>JumlahKeikutsertaanProjek</th>\n",
       "      <th>JumlahKeterlambatanSebulanTerakhir</th>\n",
       "      <th>JumlahKetidakhadiran</th>\n",
       "      <th>Career_level</th>\n",
       "      <th>Employee_Performance</th>\n",
       "      <th>Education_level</th>\n",
       "      <th>is_resign</th>\n",
       "    </tr>\n",
       "  </thead>\n",
       "  <tbody>\n",
       "    <tr>\n",
       "      <th>0</th>\n",
       "      <td>4</td>\n",
       "      <td>4.0</td>\n",
       "      <td>0.0</td>\n",
       "      <td>0.0</td>\n",
       "      <td>9.0</td>\n",
       "      <td>0</td>\n",
       "      <td>5</td>\n",
       "      <td>2</td>\n",
       "      <td>0</td>\n",
       "    </tr>\n",
       "    <tr>\n",
       "      <th>1</th>\n",
       "      <td>4</td>\n",
       "      <td>4.0</td>\n",
       "      <td>4.0</td>\n",
       "      <td>0.0</td>\n",
       "      <td>3.0</td>\n",
       "      <td>0</td>\n",
       "      <td>1</td>\n",
       "      <td>1</td>\n",
       "      <td>1</td>\n",
       "    </tr>\n",
       "    <tr>\n",
       "      <th>2</th>\n",
       "      <td>4</td>\n",
       "      <td>3.0</td>\n",
       "      <td>0.0</td>\n",
       "      <td>0.0</td>\n",
       "      <td>11.0</td>\n",
       "      <td>0</td>\n",
       "      <td>4</td>\n",
       "      <td>2</td>\n",
       "      <td>1</td>\n",
       "    </tr>\n",
       "    <tr>\n",
       "      <th>3</th>\n",
       "      <td>3</td>\n",
       "      <td>3.0</td>\n",
       "      <td>0.0</td>\n",
       "      <td>4.0</td>\n",
       "      <td>6.0</td>\n",
       "      <td>0</td>\n",
       "      <td>4</td>\n",
       "      <td>1</td>\n",
       "      <td>0</td>\n",
       "    </tr>\n",
       "  </tbody>\n",
       "</table>\n",
       "</div>"
      ],
      "text/plain": [
       "   SkorSurveyEngagement  SkorKepuasanPegawai  JumlahKeikutsertaanProjek  \\\n",
       "0                     4                  4.0                        0.0   \n",
       "1                     4                  4.0                        4.0   \n",
       "2                     4                  3.0                        0.0   \n",
       "3                     3                  3.0                        0.0   \n",
       "\n",
       "   JumlahKeterlambatanSebulanTerakhir  JumlahKetidakhadiran  Career_level  \\\n",
       "0                                 0.0                   9.0             0   \n",
       "1                                 0.0                   3.0             0   \n",
       "2                                 0.0                  11.0             0   \n",
       "3                                 4.0                   6.0             0   \n",
       "\n",
       "   Employee_Performance  Education_level  is_resign  \n",
       "0                     5                2          0  \n",
       "1                     1                1          1  \n",
       "2                     4                2          1  \n",
       "3                     4                1          0  "
      ]
     },
     "execution_count": 57,
     "metadata": {},
     "output_type": "execute_result"
    }
   ],
   "source": [
    "df_select = df_pre[['SkorSurveyEngagement','SkorKepuasanPegawai',\n",
    "                    'JumlahKeikutsertaanProjek','JumlahKeterlambatanSebulanTerakhir','JumlahKetidakhadiran',\n",
    "                    'Career_level','Employee_Performance','Education_level','is_resign']]\n",
    "df_select.head(4)"
   ]
  },
  {
   "cell_type": "code",
   "execution_count": 62,
   "metadata": {},
   "outputs": [],
   "source": [
    "X = df_select.drop('is_resign', axis=1)\n",
    "y = df_select[['is_resign']]"
   ]
  },
  {
   "cell_type": "code",
   "execution_count": 63,
   "metadata": {},
   "outputs": [],
   "source": [
    "from sklearn.model_selection import train_test_split\n",
    "from sklearn.preprocessing import StandardScaler"
   ]
  },
  {
   "cell_type": "code",
   "execution_count": 80,
   "metadata": {},
   "outputs": [
    {
     "data": {
      "text/html": [
       "<div>\n",
       "<style scoped>\n",
       "    .dataframe tbody tr th:only-of-type {\n",
       "        vertical-align: middle;\n",
       "    }\n",
       "\n",
       "    .dataframe tbody tr th {\n",
       "        vertical-align: top;\n",
       "    }\n",
       "\n",
       "    .dataframe thead th {\n",
       "        text-align: right;\n",
       "    }\n",
       "</style>\n",
       "<table border=\"1\" class=\"dataframe\">\n",
       "  <thead>\n",
       "    <tr style=\"text-align: right;\">\n",
       "      <th></th>\n",
       "      <th>SkorSurveyEngagement</th>\n",
       "      <th>SkorKepuasanPegawai</th>\n",
       "      <th>JumlahKeikutsertaanProjek</th>\n",
       "      <th>JumlahKeterlambatanSebulanTerakhir</th>\n",
       "      <th>JumlahKetidakhadiran</th>\n",
       "      <th>Career_level</th>\n",
       "      <th>Employee_Performance</th>\n",
       "      <th>Education_level</th>\n",
       "    </tr>\n",
       "  </thead>\n",
       "  <tbody>\n",
       "    <tr>\n",
       "      <th>0</th>\n",
       "      <td>1.073775</td>\n",
       "      <td>0.103485</td>\n",
       "      <td>-0.504712</td>\n",
       "      <td>-0.324519</td>\n",
       "      <td>-0.212614</td>\n",
       "      <td>-0.744853</td>\n",
       "      <td>1.220562</td>\n",
       "      <td>0.861727</td>\n",
       "    </tr>\n",
       "    <tr>\n",
       "      <th>1</th>\n",
       "      <td>1.073775</td>\n",
       "      <td>0.103485</td>\n",
       "      <td>1.263388</td>\n",
       "      <td>-0.324519</td>\n",
       "      <td>-1.078818</td>\n",
       "      <td>-0.744853</td>\n",
       "      <td>-2.110997</td>\n",
       "      <td>-0.718106</td>\n",
       "    </tr>\n",
       "    <tr>\n",
       "      <th>2</th>\n",
       "      <td>1.073775</td>\n",
       "      <td>-0.991065</td>\n",
       "      <td>-0.504712</td>\n",
       "      <td>-0.324519</td>\n",
       "      <td>0.076121</td>\n",
       "      <td>-0.744853</td>\n",
       "      <td>0.387672</td>\n",
       "      <td>0.861727</td>\n",
       "    </tr>\n",
       "    <tr>\n",
       "      <th>3</th>\n",
       "      <td>-0.112121</td>\n",
       "      <td>-0.991065</td>\n",
       "      <td>-0.504712</td>\n",
       "      <td>2.806805</td>\n",
       "      <td>-0.645716</td>\n",
       "      <td>-0.744853</td>\n",
       "      <td>0.387672</td>\n",
       "      <td>-0.718106</td>\n",
       "    </tr>\n",
       "    <tr>\n",
       "      <th>4</th>\n",
       "      <td>-0.112121</td>\n",
       "      <td>-0.991065</td>\n",
       "      <td>-0.504712</td>\n",
       "      <td>-0.324519</td>\n",
       "      <td>0.076121</td>\n",
       "      <td>-0.744853</td>\n",
       "      <td>0.387672</td>\n",
       "      <td>-0.718106</td>\n",
       "    </tr>\n",
       "    <tr>\n",
       "      <th>...</th>\n",
       "      <td>...</td>\n",
       "      <td>...</td>\n",
       "      <td>...</td>\n",
       "      <td>...</td>\n",
       "      <td>...</td>\n",
       "      <td>...</td>\n",
       "      <td>...</td>\n",
       "      <td>...</td>\n",
       "    </tr>\n",
       "    <tr>\n",
       "      <th>282</th>\n",
       "      <td>-1.298017</td>\n",
       "      <td>1.198034</td>\n",
       "      <td>-0.504712</td>\n",
       "      <td>-0.324519</td>\n",
       "      <td>0.797958</td>\n",
       "      <td>0.568189</td>\n",
       "      <td>0.387672</td>\n",
       "      <td>-0.718106</td>\n",
       "    </tr>\n",
       "    <tr>\n",
       "      <th>283</th>\n",
       "      <td>1.073775</td>\n",
       "      <td>1.198034</td>\n",
       "      <td>-0.504712</td>\n",
       "      <td>-0.324519</td>\n",
       "      <td>0.076121</td>\n",
       "      <td>-0.744853</td>\n",
       "      <td>-0.445217</td>\n",
       "      <td>-0.718106</td>\n",
       "    </tr>\n",
       "    <tr>\n",
       "      <th>284</th>\n",
       "      <td>-1.298017</td>\n",
       "      <td>1.198034</td>\n",
       "      <td>-0.504712</td>\n",
       "      <td>-0.324519</td>\n",
       "      <td>0.942325</td>\n",
       "      <td>1.881231</td>\n",
       "      <td>-0.445217</td>\n",
       "      <td>-0.718106</td>\n",
       "    </tr>\n",
       "    <tr>\n",
       "      <th>285</th>\n",
       "      <td>1.073775</td>\n",
       "      <td>1.198034</td>\n",
       "      <td>-0.504712</td>\n",
       "      <td>-0.324519</td>\n",
       "      <td>1.375428</td>\n",
       "      <td>0.568189</td>\n",
       "      <td>0.387672</td>\n",
       "      <td>-0.718106</td>\n",
       "    </tr>\n",
       "    <tr>\n",
       "      <th>286</th>\n",
       "      <td>1.073775</td>\n",
       "      <td>-0.991065</td>\n",
       "      <td>-0.504712</td>\n",
       "      <td>-0.324519</td>\n",
       "      <td>-1.223186</td>\n",
       "      <td>0.568189</td>\n",
       "      <td>0.387672</td>\n",
       "      <td>-0.718106</td>\n",
       "    </tr>\n",
       "  </tbody>\n",
       "</table>\n",
       "<p>275 rows × 8 columns</p>\n",
       "</div>"
      ],
      "text/plain": [
       "     SkorSurveyEngagement  SkorKepuasanPegawai  JumlahKeikutsertaanProjek  \\\n",
       "0                1.073775             0.103485                  -0.504712   \n",
       "1                1.073775             0.103485                   1.263388   \n",
       "2                1.073775            -0.991065                  -0.504712   \n",
       "3               -0.112121            -0.991065                  -0.504712   \n",
       "4               -0.112121            -0.991065                  -0.504712   \n",
       "..                    ...                  ...                        ...   \n",
       "282             -1.298017             1.198034                  -0.504712   \n",
       "283              1.073775             1.198034                  -0.504712   \n",
       "284             -1.298017             1.198034                  -0.504712   \n",
       "285              1.073775             1.198034                  -0.504712   \n",
       "286              1.073775            -0.991065                  -0.504712   \n",
       "\n",
       "     JumlahKeterlambatanSebulanTerakhir  JumlahKetidakhadiran  Career_level  \\\n",
       "0                             -0.324519             -0.212614     -0.744853   \n",
       "1                             -0.324519             -1.078818     -0.744853   \n",
       "2                             -0.324519              0.076121     -0.744853   \n",
       "3                              2.806805             -0.645716     -0.744853   \n",
       "4                             -0.324519              0.076121     -0.744853   \n",
       "..                                  ...                   ...           ...   \n",
       "282                           -0.324519              0.797958      0.568189   \n",
       "283                           -0.324519              0.076121     -0.744853   \n",
       "284                           -0.324519              0.942325      1.881231   \n",
       "285                           -0.324519              1.375428      0.568189   \n",
       "286                           -0.324519             -1.223186      0.568189   \n",
       "\n",
       "     Employee_Performance  Education_level  \n",
       "0                1.220562         0.861727  \n",
       "1               -2.110997        -0.718106  \n",
       "2                0.387672         0.861727  \n",
       "3                0.387672        -0.718106  \n",
       "4                0.387672        -0.718106  \n",
       "..                    ...              ...  \n",
       "282              0.387672        -0.718106  \n",
       "283             -0.445217        -0.718106  \n",
       "284             -0.445217        -0.718106  \n",
       "285              0.387672        -0.718106  \n",
       "286              0.387672        -0.718106  \n",
       "\n",
       "[275 rows x 8 columns]"
      ]
     },
     "execution_count": 80,
     "metadata": {},
     "output_type": "execute_result"
    }
   ],
   "source": [
    "scaler = StandardScaler()\n",
    "X[X.columns.values] = scaler.fit_transform(X)\n",
    "X"
   ]
  }
 ],
 "metadata": {
  "kernelspec": {
   "display_name": "base",
   "language": "python",
   "name": "python3"
  },
  "language_info": {
   "codemirror_mode": {
    "name": "ipython",
    "version": 3
   },
   "file_extension": ".py",
   "mimetype": "text/x-python",
   "name": "python",
   "nbconvert_exporter": "python",
   "pygments_lexer": "ipython3",
   "version": "3.9.13"
  },
  "orig_nbformat": 4
 },
 "nbformat": 4,
 "nbformat_minor": 2
}
